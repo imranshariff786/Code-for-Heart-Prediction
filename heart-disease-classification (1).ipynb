{
 "cells": [
  {
   "cell_type": "code",
   "execution_count": 1,
   "id": "4b51bc14",
   "metadata": {
    "execution": {
     "iopub.execute_input": "2022-01-10T04:29:03.748833Z",
     "iopub.status.busy": "2022-01-10T04:29:03.747881Z",
     "iopub.status.idle": "2022-01-10T04:29:05.374800Z",
     "shell.execute_reply": "2022-01-10T04:29:05.373552Z",
     "shell.execute_reply.started": "2022-01-10T04:16:56.450322Z"
    },
    "papermill": {
     "duration": 1.723921,
     "end_time": "2022-01-10T04:29:05.374993",
     "exception": false,
     "start_time": "2022-01-10T04:29:03.651072",
     "status": "completed"
    },
    "tags": []
   },
   "outputs": [],
   "source": [
    "import pandas as pd\n",
    "import numpy as np\n",
    "import seaborn as sns\n",
    "import matplotlib.pyplot as plt\n",
    "%matplotlib inline \n",
    "from sklearn.model_selection import train_test_split\n",
    "from sklearn.tree import DecisionTreeClassifier as dtc\n",
    "from sklearn.metrics  import confusion_matrix as cm\n",
    "from sklearn.metrics import classification_report as cr\n",
    "from sklearn.metrics import accuracy_score \n",
    "from sklearn.preprocessing import StandardScaler\n",
    "from sklearn.naive_bayes import GaussianNB as bs\n",
    "from sklearn.model_selection import cross_val_score as cvs\n"
   ]
  },
  {
   "cell_type": "code",
   "execution_count": 2,
   "id": "07baa2a6",
   "metadata": {
    "execution": {
     "iopub.execute_input": "2022-01-10T04:29:05.537871Z",
     "iopub.status.busy": "2022-01-10T04:29:05.537115Z",
     "iopub.status.idle": "2022-01-10T04:29:05.579330Z",
     "shell.execute_reply": "2022-01-10T04:29:05.579919Z",
     "shell.execute_reply.started": "2022-01-10T04:16:56.508993Z"
    },
    "papermill": {
     "duration": 0.125767,
     "end_time": "2022-01-10T04:29:05.580113",
     "exception": false,
     "start_time": "2022-01-10T04:29:05.454346",
     "status": "completed"
    },
    "tags": []
   },
   "outputs": [],
   "source": [
    "#loading the data set \n",
    "df=pd.read_csv(\"C:/Users/best/Downloads/heart.csv\")"
   ]
  },
  {
   "cell_type": "code",
   "execution_count": 3,
   "id": "9b0f5385",
   "metadata": {
    "execution": {
     "iopub.execute_input": "2022-01-10T04:29:05.749592Z",
     "iopub.status.busy": "2022-01-10T04:29:05.748814Z",
     "iopub.status.idle": "2022-01-10T04:29:05.772598Z",
     "shell.execute_reply": "2022-01-10T04:29:05.773117Z",
     "shell.execute_reply.started": "2022-01-10T04:16:56.673856Z"
    },
    "papermill": {
     "duration": 0.110182,
     "end_time": "2022-01-10T04:29:05.773308",
     "exception": false,
     "start_time": "2022-01-10T04:29:05.663126",
     "status": "completed"
    },
    "tags": []
   },
   "outputs": [
    {
     "data": {
      "text/html": [
       "<div>\n",
       "<style scoped>\n",
       "    .dataframe tbody tr th:only-of-type {\n",
       "        vertical-align: middle;\n",
       "    }\n",
       "\n",
       "    .dataframe tbody tr th {\n",
       "        vertical-align: top;\n",
       "    }\n",
       "\n",
       "    .dataframe thead th {\n",
       "        text-align: right;\n",
       "    }\n",
       "</style>\n",
       "<table border=\"1\" class=\"dataframe\">\n",
       "  <thead>\n",
       "    <tr style=\"text-align: right;\">\n",
       "      <th></th>\n",
       "      <th>Age</th>\n",
       "      <th>Sex</th>\n",
       "      <th>ChestPainType</th>\n",
       "      <th>RestingBP</th>\n",
       "      <th>Cholesterol</th>\n",
       "      <th>FastingBS</th>\n",
       "      <th>RestingECG</th>\n",
       "      <th>MaxHR</th>\n",
       "      <th>ExerciseAngina</th>\n",
       "      <th>Oldpeak</th>\n",
       "      <th>ST_Slope</th>\n",
       "      <th>HeartDisease</th>\n",
       "    </tr>\n",
       "  </thead>\n",
       "  <tbody>\n",
       "    <tr>\n",
       "      <th>0</th>\n",
       "      <td>40</td>\n",
       "      <td>M</td>\n",
       "      <td>ATA</td>\n",
       "      <td>140</td>\n",
       "      <td>289</td>\n",
       "      <td>0</td>\n",
       "      <td>Normal</td>\n",
       "      <td>172</td>\n",
       "      <td>N</td>\n",
       "      <td>0.0</td>\n",
       "      <td>Up</td>\n",
       "      <td>0</td>\n",
       "    </tr>\n",
       "    <tr>\n",
       "      <th>1</th>\n",
       "      <td>49</td>\n",
       "      <td>F</td>\n",
       "      <td>NAP</td>\n",
       "      <td>160</td>\n",
       "      <td>180</td>\n",
       "      <td>0</td>\n",
       "      <td>Normal</td>\n",
       "      <td>156</td>\n",
       "      <td>N</td>\n",
       "      <td>1.0</td>\n",
       "      <td>Flat</td>\n",
       "      <td>1</td>\n",
       "    </tr>\n",
       "    <tr>\n",
       "      <th>2</th>\n",
       "      <td>37</td>\n",
       "      <td>M</td>\n",
       "      <td>ATA</td>\n",
       "      <td>130</td>\n",
       "      <td>283</td>\n",
       "      <td>0</td>\n",
       "      <td>ST</td>\n",
       "      <td>98</td>\n",
       "      <td>N</td>\n",
       "      <td>0.0</td>\n",
       "      <td>Up</td>\n",
       "      <td>0</td>\n",
       "    </tr>\n",
       "    <tr>\n",
       "      <th>3</th>\n",
       "      <td>48</td>\n",
       "      <td>F</td>\n",
       "      <td>ASY</td>\n",
       "      <td>138</td>\n",
       "      <td>214</td>\n",
       "      <td>0</td>\n",
       "      <td>Normal</td>\n",
       "      <td>108</td>\n",
       "      <td>Y</td>\n",
       "      <td>1.5</td>\n",
       "      <td>Flat</td>\n",
       "      <td>1</td>\n",
       "    </tr>\n",
       "    <tr>\n",
       "      <th>4</th>\n",
       "      <td>54</td>\n",
       "      <td>M</td>\n",
       "      <td>NAP</td>\n",
       "      <td>150</td>\n",
       "      <td>195</td>\n",
       "      <td>0</td>\n",
       "      <td>Normal</td>\n",
       "      <td>122</td>\n",
       "      <td>N</td>\n",
       "      <td>0.0</td>\n",
       "      <td>Up</td>\n",
       "      <td>0</td>\n",
       "    </tr>\n",
       "  </tbody>\n",
       "</table>\n",
       "</div>"
      ],
      "text/plain": [
       "   Age Sex ChestPainType  RestingBP  Cholesterol  FastingBS RestingECG  MaxHR  \\\n",
       "0   40   M           ATA        140          289          0     Normal    172   \n",
       "1   49   F           NAP        160          180          0     Normal    156   \n",
       "2   37   M           ATA        130          283          0         ST     98   \n",
       "3   48   F           ASY        138          214          0     Normal    108   \n",
       "4   54   M           NAP        150          195          0     Normal    122   \n",
       "\n",
       "  ExerciseAngina  Oldpeak ST_Slope  HeartDisease  \n",
       "0              N      0.0       Up             0  \n",
       "1              N      1.0     Flat             1  \n",
       "2              N      0.0       Up             0  \n",
       "3              Y      1.5     Flat             1  \n",
       "4              N      0.0       Up             0  "
      ]
     },
     "execution_count": 3,
     "metadata": {},
     "output_type": "execute_result"
    }
   ],
   "source": [
    "#seeing the top 5 values in the data set \n",
    "df.head()"
   ]
  },
  {
   "cell_type": "code",
   "execution_count": 4,
   "id": "5f11d169",
   "metadata": {
    "execution": {
     "iopub.execute_input": "2022-01-10T04:29:05.940661Z",
     "iopub.status.busy": "2022-01-10T04:29:05.939755Z",
     "iopub.status.idle": "2022-01-10T04:29:05.955049Z",
     "shell.execute_reply": "2022-01-10T04:29:05.955679Z",
     "shell.execute_reply.started": "2022-01-10T04:16:56.718676Z"
    },
    "papermill": {
     "duration": 0.103917,
     "end_time": "2022-01-10T04:29:05.955863",
     "exception": false,
     "start_time": "2022-01-10T04:29:05.851946",
     "status": "completed"
    },
    "tags": []
   },
   "outputs": [
    {
     "data": {
      "text/html": [
       "<div>\n",
       "<style scoped>\n",
       "    .dataframe tbody tr th:only-of-type {\n",
       "        vertical-align: middle;\n",
       "    }\n",
       "\n",
       "    .dataframe tbody tr th {\n",
       "        vertical-align: top;\n",
       "    }\n",
       "\n",
       "    .dataframe thead th {\n",
       "        text-align: right;\n",
       "    }\n",
       "</style>\n",
       "<table border=\"1\" class=\"dataframe\">\n",
       "  <thead>\n",
       "    <tr style=\"text-align: right;\">\n",
       "      <th></th>\n",
       "      <th>Age</th>\n",
       "      <th>Sex</th>\n",
       "      <th>ChestPainType</th>\n",
       "      <th>RestingBP</th>\n",
       "      <th>Cholesterol</th>\n",
       "      <th>FastingBS</th>\n",
       "      <th>RestingECG</th>\n",
       "      <th>MaxHR</th>\n",
       "      <th>ExerciseAngina</th>\n",
       "      <th>Oldpeak</th>\n",
       "      <th>ST_Slope</th>\n",
       "      <th>HeartDisease</th>\n",
       "    </tr>\n",
       "  </thead>\n",
       "  <tbody>\n",
       "    <tr>\n",
       "      <th>913</th>\n",
       "      <td>45</td>\n",
       "      <td>M</td>\n",
       "      <td>TA</td>\n",
       "      <td>110</td>\n",
       "      <td>264</td>\n",
       "      <td>0</td>\n",
       "      <td>Normal</td>\n",
       "      <td>132</td>\n",
       "      <td>N</td>\n",
       "      <td>1.2</td>\n",
       "      <td>Flat</td>\n",
       "      <td>1</td>\n",
       "    </tr>\n",
       "    <tr>\n",
       "      <th>914</th>\n",
       "      <td>68</td>\n",
       "      <td>M</td>\n",
       "      <td>ASY</td>\n",
       "      <td>144</td>\n",
       "      <td>193</td>\n",
       "      <td>1</td>\n",
       "      <td>Normal</td>\n",
       "      <td>141</td>\n",
       "      <td>N</td>\n",
       "      <td>3.4</td>\n",
       "      <td>Flat</td>\n",
       "      <td>1</td>\n",
       "    </tr>\n",
       "    <tr>\n",
       "      <th>915</th>\n",
       "      <td>57</td>\n",
       "      <td>M</td>\n",
       "      <td>ASY</td>\n",
       "      <td>130</td>\n",
       "      <td>131</td>\n",
       "      <td>0</td>\n",
       "      <td>Normal</td>\n",
       "      <td>115</td>\n",
       "      <td>Y</td>\n",
       "      <td>1.2</td>\n",
       "      <td>Flat</td>\n",
       "      <td>1</td>\n",
       "    </tr>\n",
       "    <tr>\n",
       "      <th>916</th>\n",
       "      <td>57</td>\n",
       "      <td>F</td>\n",
       "      <td>ATA</td>\n",
       "      <td>130</td>\n",
       "      <td>236</td>\n",
       "      <td>0</td>\n",
       "      <td>LVH</td>\n",
       "      <td>174</td>\n",
       "      <td>N</td>\n",
       "      <td>0.0</td>\n",
       "      <td>Flat</td>\n",
       "      <td>1</td>\n",
       "    </tr>\n",
       "    <tr>\n",
       "      <th>917</th>\n",
       "      <td>38</td>\n",
       "      <td>M</td>\n",
       "      <td>NAP</td>\n",
       "      <td>138</td>\n",
       "      <td>175</td>\n",
       "      <td>0</td>\n",
       "      <td>Normal</td>\n",
       "      <td>173</td>\n",
       "      <td>N</td>\n",
       "      <td>0.0</td>\n",
       "      <td>Up</td>\n",
       "      <td>0</td>\n",
       "    </tr>\n",
       "  </tbody>\n",
       "</table>\n",
       "</div>"
      ],
      "text/plain": [
       "     Age Sex ChestPainType  RestingBP  Cholesterol  FastingBS RestingECG  \\\n",
       "913   45   M            TA        110          264          0     Normal   \n",
       "914   68   M           ASY        144          193          1     Normal   \n",
       "915   57   M           ASY        130          131          0     Normal   \n",
       "916   57   F           ATA        130          236          0        LVH   \n",
       "917   38   M           NAP        138          175          0     Normal   \n",
       "\n",
       "     MaxHR ExerciseAngina  Oldpeak ST_Slope  HeartDisease  \n",
       "913    132              N      1.2     Flat             1  \n",
       "914    141              N      3.4     Flat             1  \n",
       "915    115              Y      1.2     Flat             1  \n",
       "916    174              N      0.0     Flat             1  \n",
       "917    173              N      0.0       Up             0  "
      ]
     },
     "execution_count": 4,
     "metadata": {},
     "output_type": "execute_result"
    }
   ],
   "source": [
    "#seeing the top tail values in the data set \n",
    "df.tail()"
   ]
  },
  {
   "cell_type": "code",
   "execution_count": 5,
   "id": "82932f4c",
   "metadata": {
    "execution": {
     "iopub.execute_input": "2022-01-10T04:29:06.126311Z",
     "iopub.status.busy": "2022-01-10T04:29:06.125512Z",
     "iopub.status.idle": "2022-01-10T04:29:06.131087Z",
     "shell.execute_reply": "2022-01-10T04:29:06.131711Z",
     "shell.execute_reply.started": "2022-01-10T04:16:58.125585Z"
    },
    "papermill": {
     "duration": 0.090937,
     "end_time": "2022-01-10T04:29:06.131895",
     "exception": false,
     "start_time": "2022-01-10T04:29:06.040958",
     "status": "completed"
    },
    "tags": []
   },
   "outputs": [
    {
     "data": {
      "text/plain": [
       "(918, 12)"
      ]
     },
     "execution_count": 5,
     "metadata": {},
     "output_type": "execute_result"
    }
   ],
   "source": [
    "#seeing the shape of the data set \n",
    "df.shape"
   ]
  },
  {
   "cell_type": "markdown",
   "id": "b2bc8f3b",
   "metadata": {
    "execution": {
     "iopub.execute_input": "2022-01-10T04:29:06.293466Z",
     "iopub.status.busy": "2022-01-10T04:29:06.292292Z",
     "iopub.status.idle": "2022-01-10T04:29:06.298169Z",
     "shell.execute_reply": "2022-01-10T04:29:06.298794Z",
     "shell.execute_reply.started": "2022-01-10T04:16:58.132799Z"
    },
    "papermill": {
     "duration": 0.087488,
     "end_time": "2022-01-10T04:29:06.298979",
     "exception": false,
     "start_time": "2022-01-10T04:29:06.211491",
     "status": "completed"
    },
    "tags": []
   },
   "source": [
    "there are 918 rows and 12 columns are present in the data set \n"
   ]
  },
  {
   "cell_type": "code",
   "execution_count": 7,
   "id": "4f4f5c50",
   "metadata": {
    "execution": {
     "iopub.execute_input": "2022-01-10T04:29:06.464016Z",
     "iopub.status.busy": "2022-01-10T04:29:06.463040Z",
     "iopub.status.idle": "2022-01-10T04:29:06.466836Z",
     "shell.execute_reply": "2022-01-10T04:29:06.467335Z",
     "shell.execute_reply.started": "2022-01-10T04:16:58.144691Z"
    },
    "papermill": {
     "duration": 0.090975,
     "end_time": "2022-01-10T04:29:06.467518",
     "exception": false,
     "start_time": "2022-01-10T04:29:06.376543",
     "status": "completed"
    },
    "tags": []
   },
   "outputs": [
    {
     "data": {
      "text/plain": [
       "11016"
      ]
     },
     "execution_count": 7,
     "metadata": {},
     "output_type": "execute_result"
    }
   ],
   "source": [
    "# seeing the size of the data set \n",
    "df.size"
   ]
  },
  {
   "cell_type": "code",
   "execution_count": 8,
   "id": "4f33ae80",
   "metadata": {
    "execution": {
     "iopub.execute_input": "2022-01-10T04:29:06.636304Z",
     "iopub.status.busy": "2022-01-10T04:29:06.633126Z",
     "iopub.status.idle": "2022-01-10T04:29:06.639403Z",
     "shell.execute_reply": "2022-01-10T04:29:06.639906Z",
     "shell.execute_reply.started": "2022-01-10T04:16:58.160458Z"
    },
    "papermill": {
     "duration": 0.094614,
     "end_time": "2022-01-10T04:29:06.640087",
     "exception": false,
     "start_time": "2022-01-10T04:29:06.545473",
     "status": "completed"
    },
    "tags": []
   },
   "outputs": [
    {
     "data": {
      "text/plain": [
       "int64      6\n",
       "object     5\n",
       "float64    1\n",
       "dtype: int64"
      ]
     },
     "execution_count": 8,
     "metadata": {},
     "output_type": "execute_result"
    }
   ],
   "source": [
    "#checking the data  types in the data set \n",
    "df.dtypes.value_counts()"
   ]
  },
  {
   "cell_type": "markdown",
   "id": "4f7795a2",
   "metadata": {
    "execution": {
     "iopub.execute_input": "2022-01-10T04:29:06.805314Z",
     "iopub.status.busy": "2022-01-10T04:29:06.804301Z",
     "iopub.status.idle": "2022-01-10T04:29:06.807471Z",
     "shell.execute_reply": "2022-01-10T04:29:06.807947Z",
     "shell.execute_reply.started": "2022-01-10T04:16:58.304282Z"
    },
    "papermill": {
     "duration": 0.088982,
     "end_time": "2022-01-10T04:29:06.808133",
     "exception": false,
     "start_time": "2022-01-10T04:29:06.719151",
     "status": "completed"
    },
    "tags": []
   },
   "source": [
    "in the above data set there are 6 integer columns ,5 object columns 1 float columns "
   ]
  },
  {
   "cell_type": "code",
   "execution_count": 9,
   "id": "21b10316",
   "metadata": {
    "execution": {
     "iopub.execute_input": "2022-01-10T04:29:06.975309Z",
     "iopub.status.busy": "2022-01-10T04:29:06.974566Z",
     "iopub.status.idle": "2022-01-10T04:29:06.995092Z",
     "shell.execute_reply": "2022-01-10T04:29:06.996298Z",
     "shell.execute_reply.started": "2022-01-10T04:16:58.309931Z"
    },
    "papermill": {
     "duration": 0.111479,
     "end_time": "2022-01-10T04:29:06.996789",
     "exception": false,
     "start_time": "2022-01-10T04:29:06.885310",
     "status": "completed"
    },
    "tags": []
   },
   "outputs": [
    {
     "name": "stdout",
     "output_type": "stream",
     "text": [
      "<class 'pandas.core.frame.DataFrame'>\n",
      "RangeIndex: 918 entries, 0 to 917\n",
      "Data columns (total 12 columns):\n",
      " #   Column          Non-Null Count  Dtype  \n",
      "---  ------          --------------  -----  \n",
      " 0   Age             918 non-null    int64  \n",
      " 1   Sex             918 non-null    object \n",
      " 2   ChestPainType   918 non-null    object \n",
      " 3   RestingBP       918 non-null    int64  \n",
      " 4   Cholesterol     918 non-null    int64  \n",
      " 5   FastingBS       918 non-null    int64  \n",
      " 6   RestingECG      918 non-null    object \n",
      " 7   MaxHR           918 non-null    int64  \n",
      " 8   ExerciseAngina  918 non-null    object \n",
      " 9   Oldpeak         918 non-null    float64\n",
      " 10  ST_Slope        918 non-null    object \n",
      " 11  HeartDisease    918 non-null    int64  \n",
      "dtypes: float64(1), int64(6), object(5)\n",
      "memory usage: 86.2+ KB\n"
     ]
    }
   ],
   "source": [
    "#seeing the info of the data set \n",
    "df.info()"
   ]
  },
  {
   "cell_type": "code",
   "execution_count": 10,
   "id": "87dd8b1b",
   "metadata": {
    "execution": {
     "iopub.execute_input": "2022-01-10T04:29:07.174774Z",
     "iopub.status.busy": "2022-01-10T04:29:07.173910Z",
     "iopub.status.idle": "2022-01-10T04:29:07.178603Z",
     "shell.execute_reply": "2022-01-10T04:29:07.179322Z",
     "shell.execute_reply.started": "2022-01-10T04:16:58.43856Z"
    },
    "papermill": {
     "duration": 0.094741,
     "end_time": "2022-01-10T04:29:07.179636",
     "exception": false,
     "start_time": "2022-01-10T04:29:07.084895",
     "status": "completed"
    },
    "tags": []
   },
   "outputs": [
    {
     "data": {
      "text/plain": [
       "Age               0\n",
       "Sex               0\n",
       "ChestPainType     0\n",
       "RestingBP         0\n",
       "Cholesterol       0\n",
       "FastingBS         0\n",
       "RestingECG        0\n",
       "MaxHR             0\n",
       "ExerciseAngina    0\n",
       "Oldpeak           0\n",
       "ST_Slope          0\n",
       "HeartDisease      0\n",
       "dtype: int64"
      ]
     },
     "execution_count": 10,
     "metadata": {},
     "output_type": "execute_result"
    }
   ],
   "source": [
    "#checking the  null values in the data set \n",
    "df.isna().sum()"
   ]
  },
  {
   "cell_type": "markdown",
   "id": "7d5d5cea",
   "metadata": {
    "execution": {
     "iopub.execute_input": "2022-01-10T04:29:07.347842Z",
     "iopub.status.busy": "2022-01-10T04:29:07.346096Z",
     "iopub.status.idle": "2022-01-10T04:29:07.351413Z",
     "shell.execute_reply": "2022-01-10T04:29:07.351987Z",
     "shell.execute_reply.started": "2022-01-10T04:16:58.448938Z"
    },
    "papermill": {
     "duration": 0.089669,
     "end_time": "2022-01-10T04:29:07.352215",
     "exception": false,
     "start_time": "2022-01-10T04:29:07.262546",
     "status": "completed"
    },
    "tags": []
   },
   "source": [
    "as you can see there are no null values in the data set \n"
   ]
  },
  {
   "cell_type": "code",
   "execution_count": 11,
   "id": "c71a9df6",
   "metadata": {
    "execution": {
     "iopub.execute_input": "2022-01-10T04:29:07.526777Z",
     "iopub.status.busy": "2022-01-10T04:29:07.525738Z",
     "iopub.status.idle": "2022-01-10T04:29:07.558996Z",
     "shell.execute_reply": "2022-01-10T04:29:07.559638Z",
     "shell.execute_reply.started": "2022-01-10T04:16:59.038602Z"
    },
    "papermill": {
     "duration": 0.120968,
     "end_time": "2022-01-10T04:29:07.559817",
     "exception": false,
     "start_time": "2022-01-10T04:29:07.438849",
     "status": "completed"
    },
    "tags": []
   },
   "outputs": [
    {
     "data": {
      "text/html": [
       "<div>\n",
       "<style scoped>\n",
       "    .dataframe tbody tr th:only-of-type {\n",
       "        vertical-align: middle;\n",
       "    }\n",
       "\n",
       "    .dataframe tbody tr th {\n",
       "        vertical-align: top;\n",
       "    }\n",
       "\n",
       "    .dataframe thead th {\n",
       "        text-align: right;\n",
       "    }\n",
       "</style>\n",
       "<table border=\"1\" class=\"dataframe\">\n",
       "  <thead>\n",
       "    <tr style=\"text-align: right;\">\n",
       "      <th></th>\n",
       "      <th>Age</th>\n",
       "      <th>RestingBP</th>\n",
       "      <th>Cholesterol</th>\n",
       "      <th>FastingBS</th>\n",
       "      <th>MaxHR</th>\n",
       "      <th>Oldpeak</th>\n",
       "      <th>HeartDisease</th>\n",
       "    </tr>\n",
       "  </thead>\n",
       "  <tbody>\n",
       "    <tr>\n",
       "      <th>count</th>\n",
       "      <td>918.000000</td>\n",
       "      <td>918.000000</td>\n",
       "      <td>918.000000</td>\n",
       "      <td>918.000000</td>\n",
       "      <td>918.000000</td>\n",
       "      <td>918.000000</td>\n",
       "      <td>918.000000</td>\n",
       "    </tr>\n",
       "    <tr>\n",
       "      <th>mean</th>\n",
       "      <td>53.510893</td>\n",
       "      <td>132.396514</td>\n",
       "      <td>198.799564</td>\n",
       "      <td>0.233115</td>\n",
       "      <td>136.809368</td>\n",
       "      <td>0.887364</td>\n",
       "      <td>0.553377</td>\n",
       "    </tr>\n",
       "    <tr>\n",
       "      <th>std</th>\n",
       "      <td>9.432617</td>\n",
       "      <td>18.514154</td>\n",
       "      <td>109.384145</td>\n",
       "      <td>0.423046</td>\n",
       "      <td>25.460334</td>\n",
       "      <td>1.066570</td>\n",
       "      <td>0.497414</td>\n",
       "    </tr>\n",
       "    <tr>\n",
       "      <th>min</th>\n",
       "      <td>28.000000</td>\n",
       "      <td>0.000000</td>\n",
       "      <td>0.000000</td>\n",
       "      <td>0.000000</td>\n",
       "      <td>60.000000</td>\n",
       "      <td>-2.600000</td>\n",
       "      <td>0.000000</td>\n",
       "    </tr>\n",
       "    <tr>\n",
       "      <th>25%</th>\n",
       "      <td>47.000000</td>\n",
       "      <td>120.000000</td>\n",
       "      <td>173.250000</td>\n",
       "      <td>0.000000</td>\n",
       "      <td>120.000000</td>\n",
       "      <td>0.000000</td>\n",
       "      <td>0.000000</td>\n",
       "    </tr>\n",
       "    <tr>\n",
       "      <th>50%</th>\n",
       "      <td>54.000000</td>\n",
       "      <td>130.000000</td>\n",
       "      <td>223.000000</td>\n",
       "      <td>0.000000</td>\n",
       "      <td>138.000000</td>\n",
       "      <td>0.600000</td>\n",
       "      <td>1.000000</td>\n",
       "    </tr>\n",
       "    <tr>\n",
       "      <th>75%</th>\n",
       "      <td>60.000000</td>\n",
       "      <td>140.000000</td>\n",
       "      <td>267.000000</td>\n",
       "      <td>0.000000</td>\n",
       "      <td>156.000000</td>\n",
       "      <td>1.500000</td>\n",
       "      <td>1.000000</td>\n",
       "    </tr>\n",
       "    <tr>\n",
       "      <th>max</th>\n",
       "      <td>77.000000</td>\n",
       "      <td>200.000000</td>\n",
       "      <td>603.000000</td>\n",
       "      <td>1.000000</td>\n",
       "      <td>202.000000</td>\n",
       "      <td>6.200000</td>\n",
       "      <td>1.000000</td>\n",
       "    </tr>\n",
       "  </tbody>\n",
       "</table>\n",
       "</div>"
      ],
      "text/plain": [
       "              Age   RestingBP  Cholesterol   FastingBS       MaxHR  \\\n",
       "count  918.000000  918.000000   918.000000  918.000000  918.000000   \n",
       "mean    53.510893  132.396514   198.799564    0.233115  136.809368   \n",
       "std      9.432617   18.514154   109.384145    0.423046   25.460334   \n",
       "min     28.000000    0.000000     0.000000    0.000000   60.000000   \n",
       "25%     47.000000  120.000000   173.250000    0.000000  120.000000   \n",
       "50%     54.000000  130.000000   223.000000    0.000000  138.000000   \n",
       "75%     60.000000  140.000000   267.000000    0.000000  156.000000   \n",
       "max     77.000000  200.000000   603.000000    1.000000  202.000000   \n",
       "\n",
       "          Oldpeak  HeartDisease  \n",
       "count  918.000000    918.000000  \n",
       "mean     0.887364      0.553377  \n",
       "std      1.066570      0.497414  \n",
       "min     -2.600000      0.000000  \n",
       "25%      0.000000      0.000000  \n",
       "50%      0.600000      1.000000  \n",
       "75%      1.500000      1.000000  \n",
       "max      6.200000      1.000000  "
      ]
     },
     "execution_count": 11,
     "metadata": {},
     "output_type": "execute_result"
    }
   ],
   "source": [
    "#describing the data \n",
    "df.describe()"
   ]
  },
  {
   "cell_type": "code",
   "execution_count": 12,
   "id": "fc27fd82",
   "metadata": {
    "execution": {
     "iopub.execute_input": "2022-01-10T04:29:07.726870Z",
     "iopub.status.busy": "2022-01-10T04:29:07.726133Z",
     "iopub.status.idle": "2022-01-10T04:29:07.728759Z",
     "shell.execute_reply": "2022-01-10T04:29:07.729262Z",
     "shell.execute_reply.started": "2022-01-10T04:16:59.199647Z"
    },
    "papermill": {
     "duration": 0.0889,
     "end_time": "2022-01-10T04:29:07.729440",
     "exception": false,
     "start_time": "2022-01-10T04:29:07.640540",
     "status": "completed"
    },
    "tags": []
   },
   "outputs": [
    {
     "data": {
      "text/plain": [
       "Index(['Age', 'Sex', 'ChestPainType', 'RestingBP', 'Cholesterol', 'FastingBS',\n",
       "       'RestingECG', 'MaxHR', 'ExerciseAngina', 'Oldpeak', 'ST_Slope',\n",
       "       'HeartDisease'],\n",
       "      dtype='object')"
      ]
     },
     "execution_count": 12,
     "metadata": {},
     "output_type": "execute_result"
    }
   ],
   "source": [
    "#seeing the column of the data set \n",
    "df.columns "
   ]
  },
  {
   "cell_type": "markdown",
   "id": "0f5c9f01",
   "metadata": {
    "execution": {
     "iopub.execute_input": "2022-01-10T04:29:07.892787Z",
     "iopub.status.busy": "2022-01-10T04:29:07.891937Z",
     "iopub.status.idle": "2022-01-10T04:29:07.894996Z",
     "shell.execute_reply": "2022-01-10T04:29:07.895648Z",
     "shell.execute_reply.started": "2022-01-10T04:16:59.208654Z"
    },
    "papermill": {
     "duration": 0.086485,
     "end_time": "2022-01-10T04:29:07.895845",
     "exception": false,
     "start_time": "2022-01-10T04:29:07.809360",
     "status": "completed"
    },
    "tags": []
   },
   "source": [
    "# performing eda on the data set \n"
   ]
  },
  {
   "cell_type": "code",
   "execution_count": 13,
   "id": "32d14b33",
   "metadata": {
    "execution": {
     "iopub.execute_input": "2022-01-10T04:29:08.059332Z",
     "iopub.status.busy": "2022-01-10T04:29:08.058659Z",
     "iopub.status.idle": "2022-01-10T04:29:08.063910Z",
     "shell.execute_reply": "2022-01-10T04:29:08.064507Z",
     "shell.execute_reply.started": "2022-01-10T04:16:59.220905Z"
    },
    "papermill": {
     "duration": 0.089532,
     "end_time": "2022-01-10T04:29:08.064690",
     "exception": false,
     "start_time": "2022-01-10T04:29:07.975158",
     "status": "completed"
    },
    "tags": []
   },
   "outputs": [],
   "source": [
    "#now iam going to separate the categorical and numerical values \n",
    "cat=df.select_dtypes(exclude=np.number)"
   ]
  },
  {
   "cell_type": "code",
   "execution_count": 14,
   "id": "7835b089",
   "metadata": {
    "execution": {
     "iopub.execute_input": "2022-01-10T04:29:08.231357Z",
     "iopub.status.busy": "2022-01-10T04:29:08.230604Z",
     "iopub.status.idle": "2022-01-10T04:29:08.236413Z",
     "shell.execute_reply": "2022-01-10T04:29:08.236942Z",
     "shell.execute_reply.started": "2022-01-10T04:16:59.235089Z"
    },
    "papermill": {
     "duration": 0.091429,
     "end_time": "2022-01-10T04:29:08.237151",
     "exception": false,
     "start_time": "2022-01-10T04:29:08.145722",
     "status": "completed"
    },
    "tags": []
   },
   "outputs": [],
   "source": [
    "num=df.select_dtypes(include=np.number)"
   ]
  },
  {
   "cell_type": "code",
   "execution_count": 15,
   "id": "9218b370",
   "metadata": {
    "execution": {
     "iopub.execute_input": "2022-01-10T04:29:08.402349Z",
     "iopub.status.busy": "2022-01-10T04:29:08.401673Z",
     "iopub.status.idle": "2022-01-10T04:29:08.412391Z",
     "shell.execute_reply": "2022-01-10T04:29:08.412987Z",
     "shell.execute_reply.started": "2022-01-10T04:17:00.009688Z"
    },
    "papermill": {
     "duration": 0.097333,
     "end_time": "2022-01-10T04:29:08.413170",
     "exception": false,
     "start_time": "2022-01-10T04:29:08.315837",
     "status": "completed"
    },
    "tags": []
   },
   "outputs": [
    {
     "data": {
      "text/html": [
       "<div>\n",
       "<style scoped>\n",
       "    .dataframe tbody tr th:only-of-type {\n",
       "        vertical-align: middle;\n",
       "    }\n",
       "\n",
       "    .dataframe tbody tr th {\n",
       "        vertical-align: top;\n",
       "    }\n",
       "\n",
       "    .dataframe thead th {\n",
       "        text-align: right;\n",
       "    }\n",
       "</style>\n",
       "<table border=\"1\" class=\"dataframe\">\n",
       "  <thead>\n",
       "    <tr style=\"text-align: right;\">\n",
       "      <th></th>\n",
       "      <th>Sex</th>\n",
       "      <th>ChestPainType</th>\n",
       "      <th>RestingECG</th>\n",
       "      <th>ExerciseAngina</th>\n",
       "      <th>ST_Slope</th>\n",
       "    </tr>\n",
       "  </thead>\n",
       "  <tbody>\n",
       "    <tr>\n",
       "      <th>0</th>\n",
       "      <td>M</td>\n",
       "      <td>ATA</td>\n",
       "      <td>Normal</td>\n",
       "      <td>N</td>\n",
       "      <td>Up</td>\n",
       "    </tr>\n",
       "    <tr>\n",
       "      <th>1</th>\n",
       "      <td>F</td>\n",
       "      <td>NAP</td>\n",
       "      <td>Normal</td>\n",
       "      <td>N</td>\n",
       "      <td>Flat</td>\n",
       "    </tr>\n",
       "    <tr>\n",
       "      <th>2</th>\n",
       "      <td>M</td>\n",
       "      <td>ATA</td>\n",
       "      <td>ST</td>\n",
       "      <td>N</td>\n",
       "      <td>Up</td>\n",
       "    </tr>\n",
       "    <tr>\n",
       "      <th>3</th>\n",
       "      <td>F</td>\n",
       "      <td>ASY</td>\n",
       "      <td>Normal</td>\n",
       "      <td>Y</td>\n",
       "      <td>Flat</td>\n",
       "    </tr>\n",
       "    <tr>\n",
       "      <th>4</th>\n",
       "      <td>M</td>\n",
       "      <td>NAP</td>\n",
       "      <td>Normal</td>\n",
       "      <td>N</td>\n",
       "      <td>Up</td>\n",
       "    </tr>\n",
       "  </tbody>\n",
       "</table>\n",
       "</div>"
      ],
      "text/plain": [
       "  Sex ChestPainType RestingECG ExerciseAngina ST_Slope\n",
       "0   M           ATA     Normal              N       Up\n",
       "1   F           NAP     Normal              N     Flat\n",
       "2   M           ATA         ST              N       Up\n",
       "3   F           ASY     Normal              Y     Flat\n",
       "4   M           NAP     Normal              N       Up"
      ]
     },
     "execution_count": 15,
     "metadata": {},
     "output_type": "execute_result"
    }
   ],
   "source": [
    "#seeing the head values of the categorical and numerical data \n",
    "cat.head()"
   ]
  },
  {
   "cell_type": "code",
   "execution_count": 16,
   "id": "8ee8b4fc",
   "metadata": {
    "execution": {
     "iopub.execute_input": "2022-01-10T04:29:08.572400Z",
     "iopub.status.busy": "2022-01-10T04:29:08.571716Z",
     "iopub.status.idle": "2022-01-10T04:29:08.582235Z",
     "shell.execute_reply": "2022-01-10T04:29:08.582719Z",
     "shell.execute_reply.started": "2022-01-10T04:17:00.023419Z"
    },
    "papermill": {
     "duration": 0.091718,
     "end_time": "2022-01-10T04:29:08.582885",
     "exception": false,
     "start_time": "2022-01-10T04:29:08.491167",
     "status": "completed"
    },
    "tags": []
   },
   "outputs": [
    {
     "data": {
      "text/html": [
       "<div>\n",
       "<style scoped>\n",
       "    .dataframe tbody tr th:only-of-type {\n",
       "        vertical-align: middle;\n",
       "    }\n",
       "\n",
       "    .dataframe tbody tr th {\n",
       "        vertical-align: top;\n",
       "    }\n",
       "\n",
       "    .dataframe thead th {\n",
       "        text-align: right;\n",
       "    }\n",
       "</style>\n",
       "<table border=\"1\" class=\"dataframe\">\n",
       "  <thead>\n",
       "    <tr style=\"text-align: right;\">\n",
       "      <th></th>\n",
       "      <th>Age</th>\n",
       "      <th>RestingBP</th>\n",
       "      <th>Cholesterol</th>\n",
       "      <th>FastingBS</th>\n",
       "      <th>MaxHR</th>\n",
       "      <th>Oldpeak</th>\n",
       "      <th>HeartDisease</th>\n",
       "    </tr>\n",
       "  </thead>\n",
       "  <tbody>\n",
       "    <tr>\n",
       "      <th>0</th>\n",
       "      <td>40</td>\n",
       "      <td>140</td>\n",
       "      <td>289</td>\n",
       "      <td>0</td>\n",
       "      <td>172</td>\n",
       "      <td>0.0</td>\n",
       "      <td>0</td>\n",
       "    </tr>\n",
       "    <tr>\n",
       "      <th>1</th>\n",
       "      <td>49</td>\n",
       "      <td>160</td>\n",
       "      <td>180</td>\n",
       "      <td>0</td>\n",
       "      <td>156</td>\n",
       "      <td>1.0</td>\n",
       "      <td>1</td>\n",
       "    </tr>\n",
       "    <tr>\n",
       "      <th>2</th>\n",
       "      <td>37</td>\n",
       "      <td>130</td>\n",
       "      <td>283</td>\n",
       "      <td>0</td>\n",
       "      <td>98</td>\n",
       "      <td>0.0</td>\n",
       "      <td>0</td>\n",
       "    </tr>\n",
       "    <tr>\n",
       "      <th>3</th>\n",
       "      <td>48</td>\n",
       "      <td>138</td>\n",
       "      <td>214</td>\n",
       "      <td>0</td>\n",
       "      <td>108</td>\n",
       "      <td>1.5</td>\n",
       "      <td>1</td>\n",
       "    </tr>\n",
       "    <tr>\n",
       "      <th>4</th>\n",
       "      <td>54</td>\n",
       "      <td>150</td>\n",
       "      <td>195</td>\n",
       "      <td>0</td>\n",
       "      <td>122</td>\n",
       "      <td>0.0</td>\n",
       "      <td>0</td>\n",
       "    </tr>\n",
       "  </tbody>\n",
       "</table>\n",
       "</div>"
      ],
      "text/plain": [
       "   Age  RestingBP  Cholesterol  FastingBS  MaxHR  Oldpeak  HeartDisease\n",
       "0   40        140          289          0    172      0.0             0\n",
       "1   49        160          180          0    156      1.0             1\n",
       "2   37        130          283          0     98      0.0             0\n",
       "3   48        138          214          0    108      1.5             1\n",
       "4   54        150          195          0    122      0.0             0"
      ]
     },
     "execution_count": 16,
     "metadata": {},
     "output_type": "execute_result"
    }
   ],
   "source": [
    "num.head()"
   ]
  },
  {
   "cell_type": "code",
   "execution_count": 17,
   "id": "5df38e0b",
   "metadata": {
    "execution": {
     "iopub.execute_input": "2022-01-10T04:29:08.745700Z",
     "iopub.status.busy": "2022-01-10T04:29:08.744789Z",
     "iopub.status.idle": "2022-01-10T04:29:09.001416Z",
     "shell.execute_reply": "2022-01-10T04:29:09.000813Z",
     "shell.execute_reply.started": "2022-01-10T04:17:00.039909Z"
    },
    "papermill": {
     "duration": 0.340409,
     "end_time": "2022-01-10T04:29:09.001578",
     "exception": false,
     "start_time": "2022-01-10T04:29:08.661169",
     "status": "completed"
    },
    "tags": []
   },
   "outputs": [
    {
     "name": "stderr",
     "output_type": "stream",
     "text": [
      "C:\\Users\\best\\anaconda3\\lib\\site-packages\\seaborn\\_decorators.py:36: FutureWarning: Pass the following variable as a keyword arg: x. From version 0.12, the only valid positional argument will be `data`, and passing other arguments without an explicit keyword will result in an error or misinterpretation.\n",
      "  warnings.warn(\n"
     ]
    },
    {
     "data": {
      "text/plain": [
       "<AxesSubplot:xlabel='Sex', ylabel='count'>"
      ]
     },
     "execution_count": 17,
     "metadata": {},
     "output_type": "execute_result"
    },
    {
     "data": {
      "image/png": "[encoded data removed]",
      "text/plain": [
       "<Figure size 432x288 with 1 Axes>"
      ]
     },
     "metadata": {
      "needs_background": "light"
     },
     "output_type": "display_data"
    }
   ],
   "source": [
    "#now its time to plot sum graphs to analyze data \n",
    "sns.countplot(cat[\"Sex\"],hue=num[\"HeartDisease\"])"
   ]
  },
  {
   "cell_type": "markdown",
   "id": "9759c094",
   "metadata": {
    "execution": {
     "iopub.execute_input": "2022-01-10T04:29:09.168613Z",
     "iopub.status.busy": "2022-01-10T04:29:09.167929Z",
     "iopub.status.idle": "2022-01-10T04:29:09.171327Z",
     "shell.execute_reply": "2022-01-10T04:29:09.170784Z",
     "shell.execute_reply.started": "2022-01-10T04:17:01.178817Z"
    },
    "papermill": {
     "duration": 0.089082,
     "end_time": "2022-01-10T04:29:09.171468",
     "exception": false,
     "start_time": "2022-01-10T04:29:09.082386",
     "status": "completed"
    },
    "tags": []
   },
   "source": [
    "from the above data we can say that most of the males are affected the heart diseases\n"
   ]
  },
  {
   "cell_type": "code",
   "execution_count": 18,
   "id": "7473b2ac",
   "metadata": {
    "execution": {
     "iopub.execute_input": "2022-01-10T04:29:09.348386Z",
     "iopub.status.busy": "2022-01-10T04:29:09.347690Z",
     "iopub.status.idle": "2022-01-10T04:29:09.356309Z",
     "shell.execute_reply": "2022-01-10T04:29:09.355661Z",
     "shell.execute_reply.started": "2022-01-10T04:17:01.184782Z"
    },
    "papermill": {
     "duration": 0.104735,
     "end_time": "2022-01-10T04:29:09.356452",
     "exception": false,
     "start_time": "2022-01-10T04:29:09.251717",
     "status": "completed"
    },
    "tags": []
   },
   "outputs": [
    {
     "data": {
      "text/html": [
       "<div>\n",
       "<style scoped>\n",
       "    .dataframe tbody tr th:only-of-type {\n",
       "        vertical-align: middle;\n",
       "    }\n",
       "\n",
       "    .dataframe tbody tr th {\n",
       "        vertical-align: top;\n",
       "    }\n",
       "\n",
       "    .dataframe thead th {\n",
       "        text-align: right;\n",
       "    }\n",
       "</style>\n",
       "<table border=\"1\" class=\"dataframe\">\n",
       "  <thead>\n",
       "    <tr style=\"text-align: right;\">\n",
       "      <th></th>\n",
       "      <th>Age</th>\n",
       "      <th>RestingBP</th>\n",
       "      <th>Cholesterol</th>\n",
       "      <th>FastingBS</th>\n",
       "      <th>MaxHR</th>\n",
       "      <th>Oldpeak</th>\n",
       "      <th>HeartDisease</th>\n",
       "    </tr>\n",
       "    <tr>\n",
       "      <th>Sex</th>\n",
       "      <th></th>\n",
       "      <th></th>\n",
       "      <th></th>\n",
       "      <th></th>\n",
       "      <th></th>\n",
       "      <th></th>\n",
       "      <th></th>\n",
       "    </tr>\n",
       "  </thead>\n",
       "  <tbody>\n",
       "    <tr>\n",
       "      <th>F</th>\n",
       "      <td>52.492228</td>\n",
       "      <td>132.212435</td>\n",
       "      <td>241.196891</td>\n",
       "      <td>0.134715</td>\n",
       "      <td>146.139896</td>\n",
       "      <td>0.668912</td>\n",
       "      <td>0.259067</td>\n",
       "    </tr>\n",
       "    <tr>\n",
       "      <th>M</th>\n",
       "      <td>53.782069</td>\n",
       "      <td>132.445517</td>\n",
       "      <td>187.513103</td>\n",
       "      <td>0.259310</td>\n",
       "      <td>134.325517</td>\n",
       "      <td>0.945517</td>\n",
       "      <td>0.631724</td>\n",
       "    </tr>\n",
       "  </tbody>\n",
       "</table>\n",
       "</div>"
      ],
      "text/plain": [
       "           Age   RestingBP  Cholesterol  FastingBS       MaxHR   Oldpeak  \\\n",
       "Sex                                                                        \n",
       "F    52.492228  132.212435   241.196891   0.134715  146.139896  0.668912   \n",
       "M    53.782069  132.445517   187.513103   0.259310  134.325517  0.945517   \n",
       "\n",
       "     HeartDisease  \n",
       "Sex                \n",
       "F        0.259067  \n",
       "M        0.631724  "
      ]
     },
     "execution_count": 18,
     "metadata": {},
     "output_type": "execute_result"
    }
   ],
   "source": [
    "#now we will analyze male data and female data separately\n",
    "df.groupby(df[\"Sex\"]).mean()\n"
   ]
  },
  {
   "cell_type": "markdown",
   "id": "ef098f8a",
   "metadata": {
    "execution": {
     "iopub.execute_input": "2022-01-10T04:29:09.525579Z",
     "iopub.status.busy": "2022-01-10T04:29:09.524806Z",
     "iopub.status.idle": "2022-01-10T04:29:09.528253Z",
     "shell.execute_reply": "2022-01-10T04:29:09.527666Z",
     "shell.execute_reply.started": "2022-01-10T04:17:01.21093Z"
    },
    "papermill": {
     "duration": 0.089902,
     "end_time": "2022-01-10T04:29:09.528405",
     "exception": false,
     "start_time": "2022-01-10T04:29:09.438503",
     "status": "completed"
    },
    "tags": []
   },
   "source": [
    "from the above we can say that average age for getting heart disease for both male and female are similar \n",
    "fasting blood sugar was high when compared to female \n"
   ]
  },
  {
   "cell_type": "code",
   "execution_count": 19,
   "id": "4d640457",
   "metadata": {
    "execution": {
     "iopub.execute_input": "2022-01-10T04:29:09.717638Z",
     "iopub.status.busy": "2022-01-10T04:29:09.705825Z",
     "iopub.status.idle": "2022-01-10T04:29:09.722762Z",
     "shell.execute_reply": "2022-01-10T04:29:09.721608Z",
     "shell.execute_reply.started": "2022-01-10T04:17:01.216025Z"
    },
    "papermill": {
     "duration": 0.110899,
     "end_time": "2022-01-10T04:29:09.722921",
     "exception": false,
     "start_time": "2022-01-10T04:29:09.612022",
     "status": "completed"
    },
    "tags": []
   },
   "outputs": [
    {
     "data": {
      "text/html": [
       "<div>\n",
       "<style scoped>\n",
       "    .dataframe tbody tr th:only-of-type {\n",
       "        vertical-align: middle;\n",
       "    }\n",
       "\n",
       "    .dataframe tbody tr th {\n",
       "        vertical-align: top;\n",
       "    }\n",
       "\n",
       "    .dataframe thead th {\n",
       "        text-align: right;\n",
       "    }\n",
       "</style>\n",
       "<table border=\"1\" class=\"dataframe\">\n",
       "  <thead>\n",
       "    <tr style=\"text-align: right;\">\n",
       "      <th></th>\n",
       "      <th>Age</th>\n",
       "      <th>RestingBP</th>\n",
       "      <th>Cholesterol</th>\n",
       "      <th>FastingBS</th>\n",
       "      <th>MaxHR</th>\n",
       "      <th>Oldpeak</th>\n",
       "      <th>HeartDisease</th>\n",
       "    </tr>\n",
       "    <tr>\n",
       "      <th>Sex</th>\n",
       "      <th></th>\n",
       "      <th></th>\n",
       "      <th></th>\n",
       "      <th></th>\n",
       "      <th></th>\n",
       "      <th></th>\n",
       "      <th></th>\n",
       "    </tr>\n",
       "  </thead>\n",
       "  <tbody>\n",
       "    <tr>\n",
       "      <th>F</th>\n",
       "      <td>53.0</td>\n",
       "      <td>130.0</td>\n",
       "      <td>243.0</td>\n",
       "      <td>0.0</td>\n",
       "      <td>150.0</td>\n",
       "      <td>0.0</td>\n",
       "      <td>0.0</td>\n",
       "    </tr>\n",
       "    <tr>\n",
       "      <th>M</th>\n",
       "      <td>55.0</td>\n",
       "      <td>130.0</td>\n",
       "      <td>219.0</td>\n",
       "      <td>0.0</td>\n",
       "      <td>134.0</td>\n",
       "      <td>0.8</td>\n",
       "      <td>1.0</td>\n",
       "    </tr>\n",
       "  </tbody>\n",
       "</table>\n",
       "</div>"
      ],
      "text/plain": [
       "      Age  RestingBP  Cholesterol  FastingBS  MaxHR  Oldpeak  HeartDisease\n",
       "Sex                                                                       \n",
       "F    53.0      130.0        243.0        0.0  150.0      0.0           0.0\n",
       "M    55.0      130.0        219.0        0.0  134.0      0.8           1.0"
      ]
     },
     "execution_count": 19,
     "metadata": {},
     "output_type": "execute_result"
    }
   ],
   "source": [
    "df.groupby(df[\"Sex\"]).median()"
   ]
  },
  {
   "cell_type": "code",
   "execution_count": 20,
   "id": "16378e19",
   "metadata": {
    "execution": {
     "iopub.execute_input": "2022-01-10T04:29:09.897852Z",
     "iopub.status.busy": "2022-01-10T04:29:09.897134Z",
     "iopub.status.idle": "2022-01-10T04:29:10.166645Z",
     "shell.execute_reply": "2022-01-10T04:29:10.165977Z",
     "shell.execute_reply.started": "2022-01-10T04:17:01.242453Z"
    },
    "papermill": {
     "duration": 0.356648,
     "end_time": "2022-01-10T04:29:10.166800",
     "exception": false,
     "start_time": "2022-01-10T04:29:09.810152",
     "status": "completed"
    },
    "tags": []
   },
   "outputs": [
    {
     "name": "stderr",
     "output_type": "stream",
     "text": [
      "C:\\Users\\best\\anaconda3\\lib\\site-packages\\seaborn\\_decorators.py:36: FutureWarning: Pass the following variable as a keyword arg: x. From version 0.12, the only valid positional argument will be `data`, and passing other arguments without an explicit keyword will result in an error or misinterpretation.\n",
      "  warnings.warn(\n"
     ]
    },
    {
     "data": {
      "text/plain": [
       "<AxesSubplot:xlabel='ChestPainType', ylabel='count'>"
      ]
     },
     "execution_count": 20,
     "metadata": {},
     "output_type": "execute_result"
    },
    {
     "data": {
      "image/png": "[encoded data removed]",
      "text/plain": [
       "<Figure size 432x288 with 1 Axes>"
      ]
     },
     "metadata": {
      "needs_background": "light"
     },
     "output_type": "display_data"
    }
   ],
   "source": [
    "#now comparing the Heart Disease with other features \n",
    "sns.countplot(df[\"ChestPainType\"],hue=df[\"HeartDisease\"])"
   ]
  },
  {
   "cell_type": "markdown",
   "id": "f546d755",
   "metadata": {
    "execution": {
     "iopub.execute_input": "2022-01-10T04:29:10.337372Z",
     "iopub.status.busy": "2022-01-10T04:29:10.336695Z",
     "iopub.status.idle": "2022-01-10T04:29:10.340110Z",
     "shell.execute_reply": "2022-01-10T04:29:10.339513Z",
     "shell.execute_reply.started": "2022-01-10T04:17:01.49006Z"
    },
    "papermill": {
     "duration": 0.090789,
     "end_time": "2022-01-10T04:29:10.340276",
     "exception": false,
     "start_time": "2022-01-10T04:29:10.249487",
     "status": "completed"
    },
    "tags": []
   },
   "source": [
    "from the above graph we acn say that asy chest pain type are affecting more for heart diseases"
   ]
  },
  {
   "cell_type": "code",
   "execution_count": 21,
   "id": "b4f6e555",
   "metadata": {
    "execution": {
     "iopub.execute_input": "2022-01-10T04:29:10.509915Z",
     "iopub.status.busy": "2022-01-10T04:29:10.509220Z",
     "iopub.status.idle": "2022-01-10T04:29:10.738614Z",
     "shell.execute_reply": "2022-01-10T04:29:10.739209Z",
     "shell.execute_reply.started": "2022-01-10T04:17:01.494271Z"
    },
    "papermill": {
     "duration": 0.316591,
     "end_time": "2022-01-10T04:29:10.739389",
     "exception": false,
     "start_time": "2022-01-10T04:29:10.422798",
     "status": "completed"
    },
    "tags": []
   },
   "outputs": [
    {
     "name": "stderr",
     "output_type": "stream",
     "text": [
      "C:\\Users\\best\\anaconda3\\lib\\site-packages\\seaborn\\_decorators.py:36: FutureWarning: Pass the following variable as a keyword arg: x. From version 0.12, the only valid positional argument will be `data`, and passing other arguments without an explicit keyword will result in an error or misinterpretation.\n",
      "  warnings.warn(\n"
     ]
    },
    {
     "data": {
      "text/plain": [
       "<AxesSubplot:xlabel='ExerciseAngina', ylabel='count'>"
      ]
     },
     "execution_count": 21,
     "metadata": {},
     "output_type": "execute_result"
    },
    {
     "data": {
      "image/png": "[encoded data removed]",
      "text/plain": [
       "<Figure size 432x288 with 1 Axes>"
      ]
     },
     "metadata": {
      "needs_background": "light"
     },
     "output_type": "display_data"
    }
   ],
   "source": [
    "sns.countplot(df[\"ExerciseAngina\"],hue=df[\"HeartDisease\"])"
   ]
  },
  {
   "cell_type": "markdown",
   "id": "c15dad3e",
   "metadata": {
    "execution": {
     "iopub.execute_input": "2022-01-10T04:29:10.921988Z",
     "iopub.status.busy": "2022-01-10T04:29:10.920502Z",
     "iopub.status.idle": "2022-01-10T04:29:10.923694Z",
     "shell.execute_reply": "2022-01-10T04:29:10.924229Z",
     "shell.execute_reply.started": "2022-01-10T04:17:01.67571Z"
    },
    "papermill": {
     "duration": 0.098067,
     "end_time": "2022-01-10T04:29:10.924434",
     "exception": false,
     "start_time": "2022-01-10T04:29:10.826367",
     "status": "completed"
    },
    "tags": []
   },
   "source": [
    "the above feature exerciseagina means the heart strokes that happend because of the exercises for female it was high when cimpared to male "
   ]
  },
  {
   "cell_type": "code",
   "execution_count": 22,
   "id": "13193c8c",
   "metadata": {
    "execution": {
     "iopub.execute_input": "2022-01-10T04:29:11.101515Z",
     "iopub.status.busy": "2022-01-10T04:29:11.100626Z",
     "iopub.status.idle": "2022-01-10T04:29:11.340675Z",
     "shell.execute_reply": "2022-01-10T04:29:11.341557Z",
     "shell.execute_reply.started": "2022-01-10T04:17:01.680249Z"
    },
    "papermill": {
     "duration": 0.327779,
     "end_time": "2022-01-10T04:29:11.341843",
     "exception": false,
     "start_time": "2022-01-10T04:29:11.014064",
     "status": "completed"
    },
    "tags": []
   },
   "outputs": [
    {
     "name": "stderr",
     "output_type": "stream",
     "text": [
      "C:\\Users\\best\\anaconda3\\lib\\site-packages\\seaborn\\_decorators.py:36: FutureWarning: Pass the following variable as a keyword arg: x. From version 0.12, the only valid positional argument will be `data`, and passing other arguments without an explicit keyword will result in an error or misinterpretation.\n",
      "  warnings.warn(\n"
     ]
    },
    {
     "data": {
      "text/plain": [
       "<AxesSubplot:xlabel='Sex', ylabel='count'>"
      ]
     },
     "execution_count": 22,
     "metadata": {},
     "output_type": "execute_result"
    },
    {
     "data": {
      "image/png": "[encoded data removed]",
      "text/plain": [
       "<Figure size 432x288 with 1 Axes>"
      ]
     },
     "metadata": {
      "needs_background": "light"
     },
     "output_type": "display_data"
    }
   ],
   "source": [
    "#now we will see the restingecg it is used to predict the electrical activity of heart \n",
    "#whether the person have heart strock or not and it finds rhythm of the heart \n",
    "sns.countplot(df[\"Sex\"],hue=df[\"RestingECG\"])"
   ]
  },
  {
   "cell_type": "markdown",
   "id": "d2971b9b",
   "metadata": {
    "execution": {
     "iopub.execute_input": "2022-01-10T04:29:11.541839Z",
     "iopub.status.busy": "2022-01-10T04:29:11.541143Z",
     "iopub.status.idle": "2022-01-10T04:29:11.544302Z",
     "shell.execute_reply": "2022-01-10T04:29:11.543610Z",
     "shell.execute_reply.started": "2022-01-10T04:17:01.852763Z"
    },
    "papermill": {
     "duration": 0.09372,
     "end_time": "2022-01-10T04:29:11.544445",
     "exception": false,
     "start_time": "2022-01-10T04:29:11.450725",
     "status": "completed"
    },
    "tags": []
   },
   "source": [
    "in the above graph we can see the resting ecg values in the data set for both males and females \n"
   ]
  },
  {
   "cell_type": "code",
   "execution_count": 23,
   "id": "a71f7660",
   "metadata": {
    "execution": {
     "iopub.execute_input": "2022-01-10T04:29:11.723301Z",
     "iopub.status.busy": "2022-01-10T04:29:11.722549Z",
     "iopub.status.idle": "2022-01-10T04:29:12.105689Z",
     "shell.execute_reply": "2022-01-10T04:29:12.104955Z",
     "shell.execute_reply.started": "2022-01-10T04:17:01.859195Z"
    },
    "papermill": {
     "duration": 0.476279,
     "end_time": "2022-01-10T04:29:12.105844",
     "exception": false,
     "start_time": "2022-01-10T04:29:11.629565",
     "status": "completed"
    },
    "tags": []
   },
   "outputs": [
    {
     "data": {
      "text/plain": [
       "<AxesSubplot:xlabel='Sex', ylabel='Cholesterol'>"
      ]
     },
     "execution_count": 23,
     "metadata": {},
     "output_type": "execute_result"
    },
    {
     "data": {
      "image/png": "[encoded data removed]",
      "text/plain": [
       "<Figure size 432x288 with 1 Axes>"
      ]
     },
     "metadata": {
      "needs_background": "light"
     },
     "output_type": "display_data"
    }
   ],
   "source": [
    "#now we will see some barplots for more understanding of data\n",
    "sns.barplot(x='Sex',y=\"Cholesterol\",hue=\"HeartDisease\",data=df)"
   ]
  },
  {
   "cell_type": "code",
   "execution_count": 24,
   "id": "9cdb24ff",
   "metadata": {
    "execution": {
     "iopub.execute_input": "2022-01-10T04:29:12.287664Z",
     "iopub.status.busy": "2022-01-10T04:29:12.286933Z",
     "iopub.status.idle": "2022-01-10T04:29:12.548232Z",
     "shell.execute_reply": "2022-01-10T04:29:12.547585Z",
     "shell.execute_reply.started": "2022-01-10T04:17:02.188465Z"
    },
    "papermill": {
     "duration": 0.356459,
     "end_time": "2022-01-10T04:29:12.548375",
     "exception": false,
     "start_time": "2022-01-10T04:29:12.191916",
     "status": "completed"
    },
    "tags": []
   },
   "outputs": [
    {
     "data": {
      "text/plain": [
       "<AxesSubplot:xlabel='Sex', ylabel='MaxHR'>"
      ]
     },
     "execution_count": 24,
     "metadata": {},
     "output_type": "execute_result"
    },
    {
     "data": {
      "image/png": "[encoded data removed]",
      "text/plain": [
       "<Figure size 432x288 with 1 Axes>"
      ]
     },
     "metadata": {
      "needs_background": "light"
     },
     "output_type": "display_data"
    }
   ],
   "source": [
    "sns.barplot(x=\"Sex\",y=\"MaxHR\",data=df)"
   ]
  },
  {
   "cell_type": "markdown",
   "id": "d9a07116",
   "metadata": {
    "execution": {
     "iopub.execute_input": "2022-01-10T04:29:12.728139Z",
     "iopub.status.busy": "2022-01-10T04:29:12.727479Z",
     "iopub.status.idle": "2022-01-10T04:29:12.730222Z",
     "shell.execute_reply": "2022-01-10T04:29:12.729703Z",
     "shell.execute_reply.started": "2022-01-10T04:17:02.434837Z"
    },
    "papermill": {
     "duration": 0.095287,
     "end_time": "2022-01-10T04:29:12.730364",
     "exception": false,
     "start_time": "2022-01-10T04:29:12.635077",
     "status": "completed"
    },
    "tags": []
   },
   "source": [
    "maximum heart rate is more for females when compared to males "
   ]
  },
  {
   "cell_type": "code",
   "execution_count": 25,
   "id": "8104ad71",
   "metadata": {
    "execution": {
     "iopub.execute_input": "2022-01-10T04:29:12.909098Z",
     "iopub.status.busy": "2022-01-10T04:29:12.907776Z",
     "iopub.status.idle": "2022-01-10T04:29:13.315166Z",
     "shell.execute_reply": "2022-01-10T04:29:13.316004Z",
     "shell.execute_reply.started": "2022-01-10T04:17:02.44058Z"
    },
    "papermill": {
     "duration": 0.498891,
     "end_time": "2022-01-10T04:29:13.316220",
     "exception": false,
     "start_time": "2022-01-10T04:29:12.817329",
     "status": "completed"
    },
    "tags": []
   },
   "outputs": [
    {
     "data": {
      "text/plain": [
       "<AxesSubplot:xlabel='Sex', ylabel='RestingBP'>"
      ]
     },
     "execution_count": 25,
     "metadata": {},
     "output_type": "execute_result"
    },
    {
     "data": {
      "image/png": "[encoded data removed]",
      "text/plain": [
       "<Figure size 432x288 with 1 Axes>"
      ]
     },
     "metadata": {
      "needs_background": "light"
     },
     "output_type": "display_data"
    }
   ],
   "source": [
    "sns.barplot(x=\"Sex\",y=\"RestingBP\",data=df,hue=\"HeartDisease\")"
   ]
  },
  {
   "cell_type": "code",
   "execution_count": 26,
   "id": "c8f39ea0",
   "metadata": {
    "execution": {
     "iopub.execute_input": "2022-01-10T04:29:13.497460Z",
     "iopub.status.busy": "2022-01-10T04:29:13.496810Z",
     "iopub.status.idle": "2022-01-10T04:29:13.873943Z",
     "shell.execute_reply": "2022-01-10T04:29:13.873410Z",
     "shell.execute_reply.started": "2022-01-10T04:17:02.817113Z"
    },
    "papermill": {
     "duration": 0.468729,
     "end_time": "2022-01-10T04:29:13.874084",
     "exception": false,
     "start_time": "2022-01-10T04:29:13.405355",
     "status": "completed"
    },
    "tags": []
   },
   "outputs": [
    {
     "data": {
      "text/plain": [
       "<AxesSubplot:xlabel='Sex', ylabel='Age'>"
      ]
     },
     "execution_count": 26,
     "metadata": {},
     "output_type": "execute_result"
    },
    {
     "data": {
      "image/png": "[encoded data removed]",
      "text/plain": [
       "<Figure size 432x288 with 1 Axes>"
      ]
     },
     "metadata": {
      "needs_background": "light"
     },
     "output_type": "display_data"
    }
   ],
   "source": [
    "sns.barplot(x=\"Sex\",y=\"Age\",data=df,hue=\"HeartDisease\")"
   ]
  },
  {
   "cell_type": "markdown",
   "id": "3196a277",
   "metadata": {
    "execution": {
     "iopub.execute_input": "2022-01-10T04:29:14.090133Z",
     "iopub.status.busy": "2022-01-10T04:29:14.088873Z",
     "iopub.status.idle": "2022-01-10T04:29:14.091122Z",
     "shell.execute_reply": "2022-01-10T04:29:14.091811Z",
     "shell.execute_reply.started": "2022-01-10T04:17:03.320069Z"
    },
    "papermill": {
     "duration": 0.121368,
     "end_time": "2022-01-10T04:29:14.092021",
     "exception": false,
     "start_time": "2022-01-10T04:29:13.970653",
     "status": "completed"
    },
    "tags": []
   },
   "source": [
    "people affected by the heart disease are above the 50 age "
   ]
  },
  {
   "cell_type": "code",
   "execution_count": 27,
   "id": "4acdb08c",
   "metadata": {
    "execution": {
     "iopub.execute_input": "2022-01-10T04:29:14.299499Z",
     "iopub.status.busy": "2022-01-10T04:29:14.298716Z",
     "iopub.status.idle": "2022-01-10T04:29:15.025004Z",
     "shell.execute_reply": "2022-01-10T04:29:15.025848Z",
     "shell.execute_reply.started": "2022-01-10T04:17:03.325689Z"
    },
    "papermill": {
     "duration": 0.829191,
     "end_time": "2022-01-10T04:29:15.026061",
     "exception": false,
     "start_time": "2022-01-10T04:29:14.196870",
     "status": "completed"
    },
    "tags": []
   },
   "outputs": [
    {
     "data": {
      "text/plain": [
       "<AxesSubplot:>"
      ]
     },
     "execution_count": 27,
     "metadata": {},
     "output_type": "execute_result"
    },
    {
     "data": {
      "image/png": "[encoded data removed]",
      "text/plain": [
       "<Figure size 432x288 with 2 Axes>"
      ]
     },
     "metadata": {
      "needs_background": "light"
     },
     "output_type": "display_data"
    }
   ],
   "source": [
    "#now we will the correlation matrix in order to get the relation\n",
    "sns.heatmap(df.corr(),annot=True,cmap=\"coolwarm\")"
   ]
  },
  {
   "cell_type": "code",
   "execution_count": 28,
   "id": "6cd29ec3",
   "metadata": {
    "execution": {
     "iopub.execute_input": "2022-01-10T04:29:15.222049Z",
     "iopub.status.busy": "2022-01-10T04:29:15.221355Z",
     "iopub.status.idle": "2022-01-10T04:29:27.659002Z",
     "shell.execute_reply": "2022-01-10T04:29:27.659818Z",
     "shell.execute_reply.started": "2022-01-10T04:17:03.88913Z"
    },
    "papermill": {
     "duration": 12.537432,
     "end_time": "2022-01-10T04:29:27.660005",
     "exception": false,
     "start_time": "2022-01-10T04:29:15.122573",
     "status": "completed"
    },
    "tags": []
   },
   "outputs": [
    {
     "data": {
      "text/plain": [
       "<seaborn.axisgrid.PairGrid at 0x2570b77a100>"
      ]
     },
     "execution_count": 28,
     "metadata": {},
     "output_type": "execute_result"
    },
    {
     "data": {
      "image/png": "[encoded data removed]",
      "text/plain": [
       "<Figure size 1155.25x1080 with 42 Axes>"
      ]
     },
     "metadata": {
      "needs_background": "light"
     },
     "output_type": "display_data"
    }
   ],
   "source": [
    "#from the above we can say that mostly \n",
    "sns.pairplot(df,hue=\"HeartDisease\")"
   ]
  },
  {
   "cell_type": "markdown",
   "id": "32d819e9",
   "metadata": {
    "execution": {
     "iopub.execute_input": "2022-01-10T04:29:27.879346Z",
     "iopub.status.busy": "2022-01-10T04:29:27.878378Z",
     "iopub.status.idle": "2022-01-10T04:29:27.881812Z",
     "shell.execute_reply": "2022-01-10T04:29:27.882427Z",
     "shell.execute_reply.started": "2022-01-10T04:17:15.509002Z"
    },
    "papermill": {
     "duration": 0.114568,
     "end_time": "2022-01-10T04:29:27.882630",
     "exception": false,
     "start_time": "2022-01-10T04:29:27.768062",
     "status": "completed"
    },
    "tags": []
   },
   "source": [
    "from the above we can see the distribution of the both heartdisease having and not having people"
   ]
  },
  {
   "cell_type": "code",
   "execution_count": 29,
   "id": "4739da51",
   "metadata": {
    "execution": {
     "iopub.execute_input": "2022-01-10T04:29:28.099807Z",
     "iopub.status.busy": "2022-01-10T04:29:28.099022Z",
     "iopub.status.idle": "2022-01-10T04:29:28.357176Z",
     "shell.execute_reply": "2022-01-10T04:29:28.356573Z",
     "shell.execute_reply.started": "2022-01-10T04:17:15.513956Z"
    },
    "papermill": {
     "duration": 0.366493,
     "end_time": "2022-01-10T04:29:28.357345",
     "exception": false,
     "start_time": "2022-01-10T04:29:27.990852",
     "status": "completed"
    },
    "tags": []
   },
   "outputs": [
    {
     "name": "stderr",
     "output_type": "stream",
     "text": [
      "C:\\Users\\best\\anaconda3\\lib\\site-packages\\seaborn\\distributions.py:2619: FutureWarning: `distplot` is a deprecated function and will be removed in a future version. Please adapt your code to use either `displot` (a figure-level function with similar flexibility) or `histplot` (an axes-level function for histograms).\n",
      "  warnings.warn(msg, FutureWarning)\n"
     ]
    },
    {
     "data": {
      "text/plain": [
       "<AxesSubplot:xlabel='FastingBS', ylabel='Density'>"
      ]
     },
     "execution_count": 29,
     "metadata": {},
     "output_type": "execute_result"
    },
    {
     "data": {
      "image/png": "[encoded data removed]",
      "text/plain": [
       "<Figure size 432x288 with 1 Axes>"
      ]
     },
     "metadata": {
      "needs_background": "light"
     },
     "output_type": "display_data"
    }
   ],
   "source": [
    "sns.distplot(df[\"FastingBS\"])"
   ]
  },
  {
   "cell_type": "code",
   "execution_count": 30,
   "id": "8a21ef3c",
   "metadata": {
    "execution": {
     "iopub.execute_input": "2022-01-10T04:29:28.575750Z",
     "iopub.status.busy": "2022-01-10T04:29:28.575024Z",
     "iopub.status.idle": "2022-01-10T04:29:28.585698Z",
     "shell.execute_reply": "2022-01-10T04:29:28.586215Z",
     "shell.execute_reply.started": "2022-01-10T04:17:15.76904Z"
    },
    "papermill": {
     "duration": 0.122163,
     "end_time": "2022-01-10T04:29:28.586395",
     "exception": false,
     "start_time": "2022-01-10T04:29:28.464232",
     "status": "completed"
    },
    "tags": []
   },
   "outputs": [
    {
     "data": {
      "text/html": [
       "<div>\n",
       "<style scoped>\n",
       "    .dataframe tbody tr th:only-of-type {\n",
       "        vertical-align: middle;\n",
       "    }\n",
       "\n",
       "    .dataframe tbody tr th {\n",
       "        vertical-align: top;\n",
       "    }\n",
       "\n",
       "    .dataframe thead th {\n",
       "        text-align: right;\n",
       "    }\n",
       "</style>\n",
       "<table border=\"1\" class=\"dataframe\">\n",
       "  <thead>\n",
       "    <tr style=\"text-align: right;\">\n",
       "      <th></th>\n",
       "      <th>Age</th>\n",
       "      <th>RestingBP</th>\n",
       "      <th>Cholesterol</th>\n",
       "      <th>FastingBS</th>\n",
       "      <th>MaxHR</th>\n",
       "      <th>Oldpeak</th>\n",
       "      <th>HeartDisease</th>\n",
       "    </tr>\n",
       "  </thead>\n",
       "  <tbody>\n",
       "    <tr>\n",
       "      <th>0</th>\n",
       "      <td>40</td>\n",
       "      <td>140</td>\n",
       "      <td>289</td>\n",
       "      <td>0</td>\n",
       "      <td>172</td>\n",
       "      <td>0.0</td>\n",
       "      <td>0</td>\n",
       "    </tr>\n",
       "    <tr>\n",
       "      <th>1</th>\n",
       "      <td>49</td>\n",
       "      <td>160</td>\n",
       "      <td>180</td>\n",
       "      <td>0</td>\n",
       "      <td>156</td>\n",
       "      <td>1.0</td>\n",
       "      <td>1</td>\n",
       "    </tr>\n",
       "    <tr>\n",
       "      <th>2</th>\n",
       "      <td>37</td>\n",
       "      <td>130</td>\n",
       "      <td>283</td>\n",
       "      <td>0</td>\n",
       "      <td>98</td>\n",
       "      <td>0.0</td>\n",
       "      <td>0</td>\n",
       "    </tr>\n",
       "    <tr>\n",
       "      <th>3</th>\n",
       "      <td>48</td>\n",
       "      <td>138</td>\n",
       "      <td>214</td>\n",
       "      <td>0</td>\n",
       "      <td>108</td>\n",
       "      <td>1.5</td>\n",
       "      <td>1</td>\n",
       "    </tr>\n",
       "    <tr>\n",
       "      <th>4</th>\n",
       "      <td>54</td>\n",
       "      <td>150</td>\n",
       "      <td>195</td>\n",
       "      <td>0</td>\n",
       "      <td>122</td>\n",
       "      <td>0.0</td>\n",
       "      <td>0</td>\n",
       "    </tr>\n",
       "  </tbody>\n",
       "</table>\n",
       "</div>"
      ],
      "text/plain": [
       "   Age  RestingBP  Cholesterol  FastingBS  MaxHR  Oldpeak  HeartDisease\n",
       "0   40        140          289          0    172      0.0             0\n",
       "1   49        160          180          0    156      1.0             1\n",
       "2   37        130          283          0     98      0.0             0\n",
       "3   48        138          214          0    108      1.5             1\n",
       "4   54        150          195          0    122      0.0             0"
      ]
     },
     "execution_count": 30,
     "metadata": {},
     "output_type": "execute_result"
    }
   ],
   "source": [
    "num.head()"
   ]
  },
  {
   "cell_type": "code",
   "execution_count": 31,
   "id": "f9d77222",
   "metadata": {
    "execution": {
     "iopub.execute_input": "2022-01-10T04:29:28.805842Z",
     "iopub.status.busy": "2022-01-10T04:29:28.805146Z",
     "iopub.status.idle": "2022-01-10T04:29:29.118850Z",
     "shell.execute_reply": "2022-01-10T04:29:29.118296Z",
     "shell.execute_reply.started": "2022-01-10T04:17:15.784347Z"
    },
    "papermill": {
     "duration": 0.425379,
     "end_time": "2022-01-10T04:29:29.118998",
     "exception": false,
     "start_time": "2022-01-10T04:29:28.693619",
     "status": "completed"
    },
    "tags": []
   },
   "outputs": [
    {
     "name": "stderr",
     "output_type": "stream",
     "text": [
      "C:\\Users\\best\\anaconda3\\lib\\site-packages\\seaborn\\distributions.py:2619: FutureWarning: `distplot` is a deprecated function and will be removed in a future version. Please adapt your code to use either `displot` (a figure-level function with similar flexibility) or `histplot` (an axes-level function for histograms).\n",
      "  warnings.warn(msg, FutureWarning)\n"
     ]
    },
    {
     "data": {
      "text/plain": [
       "<AxesSubplot:xlabel='Cholesterol', ylabel='Density'>"
      ]
     },
     "execution_count": 31,
     "metadata": {},
     "output_type": "execute_result"
    },
    {
     "data": {
      "image/png": "[encoded data removed]",
      "text/plain": [
       "<Figure size 432x288 with 1 Axes>"
      ]
     },
     "metadata": {
      "needs_background": "light"
     },
     "output_type": "display_data"
    }
   ],
   "source": [
    "sns.distplot(df[\"Cholesterol\"])"
   ]
  },
  {
   "cell_type": "code",
   "execution_count": 32,
   "id": "98f216fb",
   "metadata": {
    "execution": {
     "iopub.execute_input": "2022-01-10T04:29:29.350074Z",
     "iopub.status.busy": "2022-01-10T04:29:29.349401Z",
     "iopub.status.idle": "2022-01-10T04:29:29.636862Z",
     "shell.execute_reply": "2022-01-10T04:29:29.637418Z",
     "shell.execute_reply.started": "2022-01-10T04:17:16.080047Z"
    },
    "papermill": {
     "duration": 0.406296,
     "end_time": "2022-01-10T04:29:29.637621",
     "exception": false,
     "start_time": "2022-01-10T04:29:29.231325",
     "status": "completed"
    },
    "tags": []
   },
   "outputs": [
    {
     "name": "stderr",
     "output_type": "stream",
     "text": [
      "C:\\Users\\best\\anaconda3\\lib\\site-packages\\seaborn\\distributions.py:2619: FutureWarning: `distplot` is a deprecated function and will be removed in a future version. Please adapt your code to use either `displot` (a figure-level function with similar flexibility) or `histplot` (an axes-level function for histograms).\n",
      "  warnings.warn(msg, FutureWarning)\n"
     ]
    },
    {
     "data": {
      "text/plain": [
       "<AxesSubplot:xlabel='MaxHR', ylabel='Density'>"
      ]
     },
     "execution_count": 32,
     "metadata": {},
     "output_type": "execute_result"
    },
    {
     "data": {
      "image/png": "[encoded data removed]",
      "text/plain": [
       "<Figure size 432x288 with 1 Axes>"
      ]
     },
     "metadata": {
      "needs_background": "light"
     },
     "output_type": "display_data"
    }
   ],
   "source": [
    "sns.distplot(df[\"MaxHR\"])"
   ]
  },
  {
   "cell_type": "code",
   "execution_count": 33,
   "id": "bee622d6",
   "metadata": {
    "execution": {
     "iopub.execute_input": "2022-01-10T04:29:29.864615Z",
     "iopub.status.busy": "2022-01-10T04:29:29.863897Z",
     "iopub.status.idle": "2022-01-10T04:29:30.033222Z",
     "shell.execute_reply": "2022-01-10T04:29:30.032420Z",
     "shell.execute_reply.started": "2022-01-10T04:17:16.363921Z"
    },
    "papermill": {
     "duration": 0.283588,
     "end_time": "2022-01-10T04:29:30.033402",
     "exception": false,
     "start_time": "2022-01-10T04:29:29.749814",
     "status": "completed"
    },
    "tags": []
   },
   "outputs": [
    {
     "name": "stderr",
     "output_type": "stream",
     "text": [
      "C:\\Users\\best\\anaconda3\\lib\\site-packages\\seaborn\\_decorators.py:36: FutureWarning: Pass the following variable as a keyword arg: x. From version 0.12, the only valid positional argument will be `data`, and passing other arguments without an explicit keyword will result in an error or misinterpretation.\n",
      "  warnings.warn(\n"
     ]
    },
    {
     "data": {
      "text/plain": [
       "<AxesSubplot:xlabel='Age'>"
      ]
     },
     "execution_count": 33,
     "metadata": {},
     "output_type": "execute_result"
    },
    {
     "data": {
      "image/png": "[encoded data removed]",
      "text/plain": [
       "<Figure size 432x288 with 1 Axes>"
      ]
     },
     "metadata": {
      "needs_background": "light"
     },
     "output_type": "display_data"
    }
   ],
   "source": [
    "#now it time to detect outliers in the data set \n",
    "sns.boxplot(df[\"Age\"],hue=df[\"HeartDisease\"])"
   ]
  },
  {
   "cell_type": "markdown",
   "id": "020ab488",
   "metadata": {
    "execution": {
     "iopub.execute_input": "2022-01-10T04:29:30.264792Z",
     "iopub.status.busy": "2022-01-10T04:29:30.264034Z",
     "iopub.status.idle": "2022-01-10T04:29:30.267058Z",
     "shell.execute_reply": "2022-01-10T04:29:30.266420Z",
     "shell.execute_reply.started": "2022-01-10T04:17:16.525955Z"
    },
    "papermill": {
     "duration": 0.120538,
     "end_time": "2022-01-10T04:29:30.267221",
     "exception": false,
     "start_time": "2022-01-10T04:29:30.146683",
     "status": "completed"
    },
    "tags": []
   },
   "source": [
    "there are no outliers in the age"
   ]
  },
  {
   "cell_type": "code",
   "execution_count": 34,
   "id": "f884c37f",
   "metadata": {
    "execution": {
     "iopub.execute_input": "2022-01-10T04:29:30.511738Z",
     "iopub.status.busy": "2022-01-10T04:29:30.502404Z",
     "iopub.status.idle": "2022-01-10T04:29:30.689758Z",
     "shell.execute_reply": "2022-01-10T04:29:30.690284Z",
     "shell.execute_reply.started": "2022-01-10T04:17:16.53153Z"
    },
    "papermill": {
     "duration": 0.310335,
     "end_time": "2022-01-10T04:29:30.690550",
     "exception": false,
     "start_time": "2022-01-10T04:29:30.380215",
     "status": "completed"
    },
    "tags": []
   },
   "outputs": [
    {
     "name": "stderr",
     "output_type": "stream",
     "text": [
      "C:\\Users\\best\\anaconda3\\lib\\site-packages\\seaborn\\_decorators.py:36: FutureWarning: Pass the following variable as a keyword arg: x. From version 0.12, the only valid positional argument will be `data`, and passing other arguments without an explicit keyword will result in an error or misinterpretation.\n",
      "  warnings.warn(\n"
     ]
    },
    {
     "data": {
      "text/plain": [
       "<AxesSubplot:xlabel='RestingBP'>"
      ]
     },
     "execution_count": 34,
     "metadata": {},
     "output_type": "execute_result"
    },
    {
     "data": {
      "image/png": "[encoded data removed]",
      "text/plain": [
       "<Figure size 432x288 with 1 Axes>"
      ]
     },
     "metadata": {
      "needs_background": "light"
     },
     "output_type": "display_data"
    }
   ],
   "source": [
    "sns.boxplot(df[\"RestingBP\"])"
   ]
  },
  {
   "cell_type": "code",
   "execution_count": 35,
   "id": "6717ceb7",
   "metadata": {
    "execution": {
     "iopub.execute_input": "2022-01-10T04:29:30.927159Z",
     "iopub.status.busy": "2022-01-10T04:29:30.924951Z",
     "iopub.status.idle": "2022-01-10T04:29:31.120446Z",
     "shell.execute_reply": "2022-01-10T04:29:31.119818Z",
     "shell.execute_reply.started": "2022-01-10T04:17:16.722524Z"
    },
    "papermill": {
     "duration": 0.313248,
     "end_time": "2022-01-10T04:29:31.120611",
     "exception": false,
     "start_time": "2022-01-10T04:29:30.807363",
     "status": "completed"
    },
    "tags": []
   },
   "outputs": [
    {
     "name": "stderr",
     "output_type": "stream",
     "text": [
      "C:\\Users\\best\\anaconda3\\lib\\site-packages\\seaborn\\_decorators.py:36: FutureWarning: Pass the following variable as a keyword arg: x. From version 0.12, the only valid positional argument will be `data`, and passing other arguments without an explicit keyword will result in an error or misinterpretation.\n",
      "  warnings.warn(\n"
     ]
    },
    {
     "data": {
      "text/plain": [
       "<AxesSubplot:xlabel='MaxHR'>"
      ]
     },
     "execution_count": 35,
     "metadata": {},
     "output_type": "execute_result"
    },
    {
     "data": {
      "image/png": "[encoded data removed]",
      "text/plain": [
       "<Figure size 432x288 with 1 Axes>"
      ]
     },
     "metadata": {
      "needs_background": "light"
     },
     "output_type": "display_data"
    }
   ],
   "source": [
    "sns.boxplot(df[\"MaxHR\"])"
   ]
  },
  {
   "cell_type": "code",
   "execution_count": 36,
   "id": "3c9cabe2",
   "metadata": {
    "execution": {
     "iopub.execute_input": "2022-01-10T04:29:31.362429Z",
     "iopub.status.busy": "2022-01-10T04:29:31.361689Z",
     "iopub.status.idle": "2022-01-10T04:29:31.548224Z",
     "shell.execute_reply": "2022-01-10T04:29:31.548767Z",
     "shell.execute_reply.started": "2022-01-10T04:17:16.907628Z"
    },
    "papermill": {
     "duration": 0.308361,
     "end_time": "2022-01-10T04:29:31.548950",
     "exception": false,
     "start_time": "2022-01-10T04:29:31.240589",
     "status": "completed"
    },
    "tags": []
   },
   "outputs": [
    {
     "name": "stderr",
     "output_type": "stream",
     "text": [
      "C:\\Users\\best\\anaconda3\\lib\\site-packages\\seaborn\\_decorators.py:36: FutureWarning: Pass the following variable as a keyword arg: x. From version 0.12, the only valid positional argument will be `data`, and passing other arguments without an explicit keyword will result in an error or misinterpretation.\n",
      "  warnings.warn(\n"
     ]
    },
    {
     "data": {
      "text/plain": [
       "<AxesSubplot:xlabel='Cholesterol'>"
      ]
     },
     "execution_count": 36,
     "metadata": {},
     "output_type": "execute_result"
    },
    {
     "data": {
      "image/png": "[encoded data removed]",
      "text/plain": [
       "<Figure size 432x288 with 1 Axes>"
      ]
     },
     "metadata": {
      "needs_background": "light"
     },
     "output_type": "display_data"
    }
   ],
   "source": [
    "sns.boxplot(df[\"Cholesterol\"])"
   ]
  },
  {
   "cell_type": "code",
   "execution_count": 37,
   "id": "ea8a0e42",
   "metadata": {
    "execution": {
     "iopub.execute_input": "2022-01-10T04:29:31.799269Z",
     "iopub.status.busy": "2022-01-10T04:29:31.796308Z",
     "iopub.status.idle": "2022-01-10T04:29:31.808082Z",
     "shell.execute_reply": "2022-01-10T04:29:31.808576Z",
     "shell.execute_reply.started": "2022-01-10T04:17:17.083602Z"
    },
    "papermill": {
     "duration": 0.135412,
     "end_time": "2022-01-10T04:29:31.808758",
     "exception": false,
     "start_time": "2022-01-10T04:29:31.673346",
     "status": "completed"
    },
    "tags": []
   },
   "outputs": [],
   "source": [
    "#now we will remove the outliers in the data set using the zscore method\n",
    "from scipy import stats\n",
    "data=df[(np.abs(stats.zscore(num))<3).all(axis=1)]"
   ]
  },
  {
   "cell_type": "code",
   "execution_count": 38,
   "id": "93555709",
   "metadata": {
    "execution": {
     "iopub.execute_input": "2022-01-10T04:29:32.050767Z",
     "iopub.status.busy": "2022-01-10T04:29:32.047018Z",
     "iopub.status.idle": "2022-01-10T04:29:32.069948Z",
     "shell.execute_reply": "2022-01-10T04:29:32.070641Z",
     "shell.execute_reply.started": "2022-01-10T04:17:17.096933Z"
    },
    "papermill": {
     "duration": 0.146029,
     "end_time": "2022-01-10T04:29:32.070862",
     "exception": false,
     "start_time": "2022-01-10T04:29:31.924833",
     "status": "completed"
    },
    "tags": []
   },
   "outputs": [
    {
     "data": {
      "text/html": [
       "<div>\n",
       "<style scoped>\n",
       "    .dataframe tbody tr th:only-of-type {\n",
       "        vertical-align: middle;\n",
       "    }\n",
       "\n",
       "    .dataframe tbody tr th {\n",
       "        vertical-align: top;\n",
       "    }\n",
       "\n",
       "    .dataframe thead th {\n",
       "        text-align: right;\n",
       "    }\n",
       "</style>\n",
       "<table border=\"1\" class=\"dataframe\">\n",
       "  <thead>\n",
       "    <tr style=\"text-align: right;\">\n",
       "      <th></th>\n",
       "      <th>Age</th>\n",
       "      <th>Sex</th>\n",
       "      <th>ChestPainType</th>\n",
       "      <th>RestingBP</th>\n",
       "      <th>Cholesterol</th>\n",
       "      <th>FastingBS</th>\n",
       "      <th>RestingECG</th>\n",
       "      <th>MaxHR</th>\n",
       "      <th>ExerciseAngina</th>\n",
       "      <th>Oldpeak</th>\n",
       "      <th>ST_Slope</th>\n",
       "      <th>HeartDisease</th>\n",
       "    </tr>\n",
       "  </thead>\n",
       "  <tbody>\n",
       "    <tr>\n",
       "      <th>0</th>\n",
       "      <td>40</td>\n",
       "      <td>M</td>\n",
       "      <td>ATA</td>\n",
       "      <td>140</td>\n",
       "      <td>289</td>\n",
       "      <td>0</td>\n",
       "      <td>Normal</td>\n",
       "      <td>172</td>\n",
       "      <td>N</td>\n",
       "      <td>0.0</td>\n",
       "      <td>Up</td>\n",
       "      <td>0</td>\n",
       "    </tr>\n",
       "    <tr>\n",
       "      <th>1</th>\n",
       "      <td>49</td>\n",
       "      <td>F</td>\n",
       "      <td>NAP</td>\n",
       "      <td>160</td>\n",
       "      <td>180</td>\n",
       "      <td>0</td>\n",
       "      <td>Normal</td>\n",
       "      <td>156</td>\n",
       "      <td>N</td>\n",
       "      <td>1.0</td>\n",
       "      <td>Flat</td>\n",
       "      <td>1</td>\n",
       "    </tr>\n",
       "    <tr>\n",
       "      <th>2</th>\n",
       "      <td>37</td>\n",
       "      <td>M</td>\n",
       "      <td>ATA</td>\n",
       "      <td>130</td>\n",
       "      <td>283</td>\n",
       "      <td>0</td>\n",
       "      <td>ST</td>\n",
       "      <td>98</td>\n",
       "      <td>N</td>\n",
       "      <td>0.0</td>\n",
       "      <td>Up</td>\n",
       "      <td>0</td>\n",
       "    </tr>\n",
       "    <tr>\n",
       "      <th>3</th>\n",
       "      <td>48</td>\n",
       "      <td>F</td>\n",
       "      <td>ASY</td>\n",
       "      <td>138</td>\n",
       "      <td>214</td>\n",
       "      <td>0</td>\n",
       "      <td>Normal</td>\n",
       "      <td>108</td>\n",
       "      <td>Y</td>\n",
       "      <td>1.5</td>\n",
       "      <td>Flat</td>\n",
       "      <td>1</td>\n",
       "    </tr>\n",
       "    <tr>\n",
       "      <th>4</th>\n",
       "      <td>54</td>\n",
       "      <td>M</td>\n",
       "      <td>NAP</td>\n",
       "      <td>150</td>\n",
       "      <td>195</td>\n",
       "      <td>0</td>\n",
       "      <td>Normal</td>\n",
       "      <td>122</td>\n",
       "      <td>N</td>\n",
       "      <td>0.0</td>\n",
       "      <td>Up</td>\n",
       "      <td>0</td>\n",
       "    </tr>\n",
       "    <tr>\n",
       "      <th>...</th>\n",
       "      <td>...</td>\n",
       "      <td>...</td>\n",
       "      <td>...</td>\n",
       "      <td>...</td>\n",
       "      <td>...</td>\n",
       "      <td>...</td>\n",
       "      <td>...</td>\n",
       "      <td>...</td>\n",
       "      <td>...</td>\n",
       "      <td>...</td>\n",
       "      <td>...</td>\n",
       "      <td>...</td>\n",
       "    </tr>\n",
       "    <tr>\n",
       "      <th>913</th>\n",
       "      <td>45</td>\n",
       "      <td>M</td>\n",
       "      <td>TA</td>\n",
       "      <td>110</td>\n",
       "      <td>264</td>\n",
       "      <td>0</td>\n",
       "      <td>Normal</td>\n",
       "      <td>132</td>\n",
       "      <td>N</td>\n",
       "      <td>1.2</td>\n",
       "      <td>Flat</td>\n",
       "      <td>1</td>\n",
       "    </tr>\n",
       "    <tr>\n",
       "      <th>914</th>\n",
       "      <td>68</td>\n",
       "      <td>M</td>\n",
       "      <td>ASY</td>\n",
       "      <td>144</td>\n",
       "      <td>193</td>\n",
       "      <td>1</td>\n",
       "      <td>Normal</td>\n",
       "      <td>141</td>\n",
       "      <td>N</td>\n",
       "      <td>3.4</td>\n",
       "      <td>Flat</td>\n",
       "      <td>1</td>\n",
       "    </tr>\n",
       "    <tr>\n",
       "      <th>915</th>\n",
       "      <td>57</td>\n",
       "      <td>M</td>\n",
       "      <td>ASY</td>\n",
       "      <td>130</td>\n",
       "      <td>131</td>\n",
       "      <td>0</td>\n",
       "      <td>Normal</td>\n",
       "      <td>115</td>\n",
       "      <td>Y</td>\n",
       "      <td>1.2</td>\n",
       "      <td>Flat</td>\n",
       "      <td>1</td>\n",
       "    </tr>\n",
       "    <tr>\n",
       "      <th>916</th>\n",
       "      <td>57</td>\n",
       "      <td>F</td>\n",
       "      <td>ATA</td>\n",
       "      <td>130</td>\n",
       "      <td>236</td>\n",
       "      <td>0</td>\n",
       "      <td>LVH</td>\n",
       "      <td>174</td>\n",
       "      <td>N</td>\n",
       "      <td>0.0</td>\n",
       "      <td>Flat</td>\n",
       "      <td>1</td>\n",
       "    </tr>\n",
       "    <tr>\n",
       "      <th>917</th>\n",
       "      <td>38</td>\n",
       "      <td>M</td>\n",
       "      <td>NAP</td>\n",
       "      <td>138</td>\n",
       "      <td>175</td>\n",
       "      <td>0</td>\n",
       "      <td>Normal</td>\n",
       "      <td>173</td>\n",
       "      <td>N</td>\n",
       "      <td>0.0</td>\n",
       "      <td>Up</td>\n",
       "      <td>0</td>\n",
       "    </tr>\n",
       "  </tbody>\n",
       "</table>\n",
       "<p>899 rows × 12 columns</p>\n",
       "</div>"
      ],
      "text/plain": [
       "     Age Sex ChestPainType  RestingBP  Cholesterol  FastingBS RestingECG  \\\n",
       "0     40   M           ATA        140          289          0     Normal   \n",
       "1     49   F           NAP        160          180          0     Normal   \n",
       "2     37   M           ATA        130          283          0         ST   \n",
       "3     48   F           ASY        138          214          0     Normal   \n",
       "4     54   M           NAP        150          195          0     Normal   \n",
       "..   ...  ..           ...        ...          ...        ...        ...   \n",
       "913   45   M            TA        110          264          0     Normal   \n",
       "914   68   M           ASY        144          193          1     Normal   \n",
       "915   57   M           ASY        130          131          0     Normal   \n",
       "916   57   F           ATA        130          236          0        LVH   \n",
       "917   38   M           NAP        138          175          0     Normal   \n",
       "\n",
       "     MaxHR ExerciseAngina  Oldpeak ST_Slope  HeartDisease  \n",
       "0      172              N      0.0       Up             0  \n",
       "1      156              N      1.0     Flat             1  \n",
       "2       98              N      0.0       Up             0  \n",
       "3      108              Y      1.5     Flat             1  \n",
       "4      122              N      0.0       Up             0  \n",
       "..     ...            ...      ...      ...           ...  \n",
       "913    132              N      1.2     Flat             1  \n",
       "914    141              N      3.4     Flat             1  \n",
       "915    115              Y      1.2     Flat             1  \n",
       "916    174              N      0.0     Flat             1  \n",
       "917    173              N      0.0       Up             0  \n",
       "\n",
       "[899 rows x 12 columns]"
      ]
     },
     "execution_count": 38,
     "metadata": {},
     "output_type": "execute_result"
    }
   ],
   "source": [
    "data"
   ]
  },
  {
   "cell_type": "code",
   "execution_count": 39,
   "id": "c6c0e1ad",
   "metadata": {
    "execution": {
     "iopub.execute_input": "2022-01-10T04:29:32.315286Z",
     "iopub.status.busy": "2022-01-10T04:29:32.314568Z",
     "iopub.status.idle": "2022-01-10T04:29:32.321223Z",
     "shell.execute_reply": "2022-01-10T04:29:32.321904Z",
     "shell.execute_reply.started": "2022-01-10T04:17:17.128446Z"
    },
    "papermill": {
     "duration": 0.130176,
     "end_time": "2022-01-10T04:29:32.322092",
     "exception": false,
     "start_time": "2022-01-10T04:29:32.191916",
     "status": "completed"
    },
    "tags": []
   },
   "outputs": [
    {
     "data": {
      "text/plain": [
       "(899, 12)"
      ]
     },
     "execution_count": 39,
     "metadata": {},
     "output_type": "execute_result"
    }
   ],
   "source": [
    "#we removed outliers from the data set \n",
    "data.shape"
   ]
  },
  {
   "cell_type": "code",
   "execution_count": 40,
   "id": "8953dc00",
   "metadata": {
    "execution": {
     "iopub.execute_input": "2022-01-10T04:29:32.570428Z",
     "iopub.status.busy": "2022-01-10T04:29:32.569691Z",
     "iopub.status.idle": "2022-01-10T04:29:32.576588Z",
     "shell.execute_reply": "2022-01-10T04:29:32.577112Z",
     "shell.execute_reply.started": "2022-01-10T04:17:17.136904Z"
    },
    "papermill": {
     "duration": 0.135775,
     "end_time": "2022-01-10T04:29:32.577304",
     "exception": false,
     "start_time": "2022-01-10T04:29:32.441529",
     "status": "completed"
    },
    "tags": []
   },
   "outputs": [],
   "source": [
    "#now its time to transform catogorical data into numerical data \n",
    "sub=pd.get_dummies(cat,drop_first=True)"
   ]
  },
  {
   "cell_type": "code",
   "execution_count": 41,
   "id": "2e6a5c8c",
   "metadata": {
    "execution": {
     "iopub.execute_input": "2022-01-10T04:29:32.835072Z",
     "iopub.status.busy": "2022-01-10T04:29:32.834369Z",
     "iopub.status.idle": "2022-01-10T04:29:32.837987Z",
     "shell.execute_reply": "2022-01-10T04:29:32.837354Z",
     "shell.execute_reply.started": "2022-01-10T04:17:17.15426Z"
    },
    "papermill": {
     "duration": 0.140224,
     "end_time": "2022-01-10T04:29:32.838137",
     "exception": false,
     "start_time": "2022-01-10T04:29:32.697913",
     "status": "completed"
    },
    "tags": []
   },
   "outputs": [
    {
     "data": {
      "text/html": [
       "<div>\n",
       "<style scoped>\n",
       "    .dataframe tbody tr th:only-of-type {\n",
       "        vertical-align: middle;\n",
       "    }\n",
       "\n",
       "    .dataframe tbody tr th {\n",
       "        vertical-align: top;\n",
       "    }\n",
       "\n",
       "    .dataframe thead th {\n",
       "        text-align: right;\n",
       "    }\n",
       "</style>\n",
       "<table border=\"1\" class=\"dataframe\">\n",
       "  <thead>\n",
       "    <tr style=\"text-align: right;\">\n",
       "      <th></th>\n",
       "      <th>Sex_M</th>\n",
       "      <th>ChestPainType_ATA</th>\n",
       "      <th>ChestPainType_NAP</th>\n",
       "      <th>ChestPainType_TA</th>\n",
       "      <th>RestingECG_Normal</th>\n",
       "      <th>RestingECG_ST</th>\n",
       "      <th>ExerciseAngina_Y</th>\n",
       "      <th>ST_Slope_Flat</th>\n",
       "      <th>ST_Slope_Up</th>\n",
       "    </tr>\n",
       "  </thead>\n",
       "  <tbody>\n",
       "    <tr>\n",
       "      <th>0</th>\n",
       "      <td>1</td>\n",
       "      <td>1</td>\n",
       "      <td>0</td>\n",
       "      <td>0</td>\n",
       "      <td>1</td>\n",
       "      <td>0</td>\n",
       "      <td>0</td>\n",
       "      <td>0</td>\n",
       "      <td>1</td>\n",
       "    </tr>\n",
       "    <tr>\n",
       "      <th>1</th>\n",
       "      <td>0</td>\n",
       "      <td>0</td>\n",
       "      <td>1</td>\n",
       "      <td>0</td>\n",
       "      <td>1</td>\n",
       "      <td>0</td>\n",
       "      <td>0</td>\n",
       "      <td>1</td>\n",
       "      <td>0</td>\n",
       "    </tr>\n",
       "    <tr>\n",
       "      <th>2</th>\n",
       "      <td>1</td>\n",
       "      <td>1</td>\n",
       "      <td>0</td>\n",
       "      <td>0</td>\n",
       "      <td>0</td>\n",
       "      <td>1</td>\n",
       "      <td>0</td>\n",
       "      <td>0</td>\n",
       "      <td>1</td>\n",
       "    </tr>\n",
       "    <tr>\n",
       "      <th>3</th>\n",
       "      <td>0</td>\n",
       "      <td>0</td>\n",
       "      <td>0</td>\n",
       "      <td>0</td>\n",
       "      <td>1</td>\n",
       "      <td>0</td>\n",
       "      <td>1</td>\n",
       "      <td>1</td>\n",
       "      <td>0</td>\n",
       "    </tr>\n",
       "    <tr>\n",
       "      <th>4</th>\n",
       "      <td>1</td>\n",
       "      <td>0</td>\n",
       "      <td>1</td>\n",
       "      <td>0</td>\n",
       "      <td>1</td>\n",
       "      <td>0</td>\n",
       "      <td>0</td>\n",
       "      <td>0</td>\n",
       "      <td>1</td>\n",
       "    </tr>\n",
       "  </tbody>\n",
       "</table>\n",
       "</div>"
      ],
      "text/plain": [
       "   Sex_M  ChestPainType_ATA  ChestPainType_NAP  ChestPainType_TA  \\\n",
       "0      1                  1                  0                 0   \n",
       "1      0                  0                  1                 0   \n",
       "2      1                  1                  0                 0   \n",
       "3      0                  0                  0                 0   \n",
       "4      1                  0                  1                 0   \n",
       "\n",
       "   RestingECG_Normal  RestingECG_ST  ExerciseAngina_Y  ST_Slope_Flat  \\\n",
       "0                  1              0                 0              0   \n",
       "1                  1              0                 0              1   \n",
       "2                  0              1                 0              0   \n",
       "3                  1              0                 1              1   \n",
       "4                  1              0                 0              0   \n",
       "\n",
       "   ST_Slope_Up  \n",
       "0            1  \n",
       "1            0  \n",
       "2            1  \n",
       "3            0  \n",
       "4            1  "
      ]
     },
     "execution_count": 41,
     "metadata": {},
     "output_type": "execute_result"
    }
   ],
   "source": [
    "sub.head()"
   ]
  },
  {
   "cell_type": "code",
   "execution_count": 42,
   "id": "004c7860",
   "metadata": {
    "execution": {
     "iopub.execute_input": "2022-01-10T04:29:33.097676Z",
     "iopub.status.busy": "2022-01-10T04:29:33.096949Z",
     "iopub.status.idle": "2022-01-10T04:29:33.108012Z",
     "shell.execute_reply": "2022-01-10T04:29:33.107434Z",
     "shell.execute_reply.started": "2022-01-10T04:17:17.171302Z"
    },
    "papermill": {
     "duration": 0.143733,
     "end_time": "2022-01-10T04:29:33.108155",
     "exception": false,
     "start_time": "2022-01-10T04:29:32.964422",
     "status": "completed"
    },
    "tags": []
   },
   "outputs": [
    {
     "name": "stderr",
     "output_type": "stream",
     "text": [
      "C:\\Users\\best\\anaconda3\\lib\\site-packages\\pandas\\core\\frame.py:4906: SettingWithCopyWarning: \n",
      "A value is trying to be set on a copy of a slice from a DataFrame\n",
      "\n",
      "See the caveats in the documentation: https://pandas.pydata.org/pandas-docs/stable/user_guide/indexing.html#returning-a-view-versus-a-copy\n",
      "  return super().drop(\n"
     ]
    }
   ],
   "source": [
    "data.drop(cat,axis=1,inplace=True)"
   ]
  },
  {
   "cell_type": "code",
   "execution_count": 43,
   "id": "28c1324f",
   "metadata": {
    "execution": {
     "iopub.execute_input": "2022-01-10T04:29:33.370822Z",
     "iopub.status.busy": "2022-01-10T04:29:33.369814Z",
     "iopub.status.idle": "2022-01-10T04:29:33.379717Z",
     "shell.execute_reply": "2022-01-10T04:29:33.380844Z",
     "shell.execute_reply.started": "2022-01-10T04:17:17.19387Z"
    },
    "papermill": {
     "duration": 0.150067,
     "end_time": "2022-01-10T04:29:33.381195",
     "exception": false,
     "start_time": "2022-01-10T04:29:33.231128",
     "status": "completed"
    },
    "tags": []
   },
   "outputs": [],
   "source": [
    "#now we will concatenate our transformed data with the numerical data\n",
    "df1=pd.concat([sub,data],axis=1)"
   ]
  },
  {
   "cell_type": "code",
   "execution_count": 44,
   "id": "8a9b5bbe",
   "metadata": {
    "execution": {
     "iopub.execute_input": "2022-01-10T04:29:33.642955Z",
     "iopub.status.busy": "2022-01-10T04:29:33.641895Z",
     "iopub.status.idle": "2022-01-10T04:29:33.661700Z",
     "shell.execute_reply": "2022-01-10T04:29:33.662251Z",
     "shell.execute_reply.started": "2022-01-10T04:17:17.206062Z"
    },
    "papermill": {
     "duration": 0.142956,
     "end_time": "2022-01-10T04:29:33.662436",
     "exception": false,
     "start_time": "2022-01-10T04:29:33.519480",
     "status": "completed"
    },
    "tags": []
   },
   "outputs": [
    {
     "data": {
      "text/html": [
       "<div>\n",
       "<style scoped>\n",
       "    .dataframe tbody tr th:only-of-type {\n",
       "        vertical-align: middle;\n",
       "    }\n",
       "\n",
       "    .dataframe tbody tr th {\n",
       "        vertical-align: top;\n",
       "    }\n",
       "\n",
       "    .dataframe thead th {\n",
       "        text-align: right;\n",
       "    }\n",
       "</style>\n",
       "<table border=\"1\" class=\"dataframe\">\n",
       "  <thead>\n",
       "    <tr style=\"text-align: right;\">\n",
       "      <th></th>\n",
       "      <th>Sex_M</th>\n",
       "      <th>ChestPainType_ATA</th>\n",
       "      <th>ChestPainType_NAP</th>\n",
       "      <th>ChestPainType_TA</th>\n",
       "      <th>RestingECG_Normal</th>\n",
       "      <th>RestingECG_ST</th>\n",
       "      <th>ExerciseAngina_Y</th>\n",
       "      <th>ST_Slope_Flat</th>\n",
       "      <th>ST_Slope_Up</th>\n",
       "      <th>Age</th>\n",
       "      <th>RestingBP</th>\n",
       "      <th>Cholesterol</th>\n",
       "      <th>FastingBS</th>\n",
       "      <th>MaxHR</th>\n",
       "      <th>Oldpeak</th>\n",
       "      <th>HeartDisease</th>\n",
       "    </tr>\n",
       "  </thead>\n",
       "  <tbody>\n",
       "    <tr>\n",
       "      <th>0</th>\n",
       "      <td>1</td>\n",
       "      <td>1</td>\n",
       "      <td>0</td>\n",
       "      <td>0</td>\n",
       "      <td>1</td>\n",
       "      <td>0</td>\n",
       "      <td>0</td>\n",
       "      <td>0</td>\n",
       "      <td>1</td>\n",
       "      <td>40.0</td>\n",
       "      <td>140.0</td>\n",
       "      <td>289.0</td>\n",
       "      <td>0.0</td>\n",
       "      <td>172.0</td>\n",
       "      <td>0.0</td>\n",
       "      <td>0.0</td>\n",
       "    </tr>\n",
       "    <tr>\n",
       "      <th>1</th>\n",
       "      <td>0</td>\n",
       "      <td>0</td>\n",
       "      <td>1</td>\n",
       "      <td>0</td>\n",
       "      <td>1</td>\n",
       "      <td>0</td>\n",
       "      <td>0</td>\n",
       "      <td>1</td>\n",
       "      <td>0</td>\n",
       "      <td>49.0</td>\n",
       "      <td>160.0</td>\n",
       "      <td>180.0</td>\n",
       "      <td>0.0</td>\n",
       "      <td>156.0</td>\n",
       "      <td>1.0</td>\n",
       "      <td>1.0</td>\n",
       "    </tr>\n",
       "    <tr>\n",
       "      <th>2</th>\n",
       "      <td>1</td>\n",
       "      <td>1</td>\n",
       "      <td>0</td>\n",
       "      <td>0</td>\n",
       "      <td>0</td>\n",
       "      <td>1</td>\n",
       "      <td>0</td>\n",
       "      <td>0</td>\n",
       "      <td>1</td>\n",
       "      <td>37.0</td>\n",
       "      <td>130.0</td>\n",
       "      <td>283.0</td>\n",
       "      <td>0.0</td>\n",
       "      <td>98.0</td>\n",
       "      <td>0.0</td>\n",
       "      <td>0.0</td>\n",
       "    </tr>\n",
       "    <tr>\n",
       "      <th>3</th>\n",
       "      <td>0</td>\n",
       "      <td>0</td>\n",
       "      <td>0</td>\n",
       "      <td>0</td>\n",
       "      <td>1</td>\n",
       "      <td>0</td>\n",
       "      <td>1</td>\n",
       "      <td>1</td>\n",
       "      <td>0</td>\n",
       "      <td>48.0</td>\n",
       "      <td>138.0</td>\n",
       "      <td>214.0</td>\n",
       "      <td>0.0</td>\n",
       "      <td>108.0</td>\n",
       "      <td>1.5</td>\n",
       "      <td>1.0</td>\n",
       "    </tr>\n",
       "    <tr>\n",
       "      <th>4</th>\n",
       "      <td>1</td>\n",
       "      <td>0</td>\n",
       "      <td>1</td>\n",
       "      <td>0</td>\n",
       "      <td>1</td>\n",
       "      <td>0</td>\n",
       "      <td>0</td>\n",
       "      <td>0</td>\n",
       "      <td>1</td>\n",
       "      <td>54.0</td>\n",
       "      <td>150.0</td>\n",
       "      <td>195.0</td>\n",
       "      <td>0.0</td>\n",
       "      <td>122.0</td>\n",
       "      <td>0.0</td>\n",
       "      <td>0.0</td>\n",
       "    </tr>\n",
       "  </tbody>\n",
       "</table>\n",
       "</div>"
      ],
      "text/plain": [
       "   Sex_M  ChestPainType_ATA  ChestPainType_NAP  ChestPainType_TA  \\\n",
       "0      1                  1                  0                 0   \n",
       "1      0                  0                  1                 0   \n",
       "2      1                  1                  0                 0   \n",
       "3      0                  0                  0                 0   \n",
       "4      1                  0                  1                 0   \n",
       "\n",
       "   RestingECG_Normal  RestingECG_ST  ExerciseAngina_Y  ST_Slope_Flat  \\\n",
       "0                  1              0                 0              0   \n",
       "1                  1              0                 0              1   \n",
       "2                  0              1                 0              0   \n",
       "3                  1              0                 1              1   \n",
       "4                  1              0                 0              0   \n",
       "\n",
       "   ST_Slope_Up   Age  RestingBP  Cholesterol  FastingBS  MaxHR  Oldpeak  \\\n",
       "0            1  40.0      140.0        289.0        0.0  172.0      0.0   \n",
       "1            0  49.0      160.0        180.0        0.0  156.0      1.0   \n",
       "2            1  37.0      130.0        283.0        0.0   98.0      0.0   \n",
       "3            0  48.0      138.0        214.0        0.0  108.0      1.5   \n",
       "4            1  54.0      150.0        195.0        0.0  122.0      0.0   \n",
       "\n",
       "   HeartDisease  \n",
       "0           0.0  \n",
       "1           1.0  \n",
       "2           0.0  \n",
       "3           1.0  \n",
       "4           0.0  "
      ]
     },
     "execution_count": 44,
     "metadata": {},
     "output_type": "execute_result"
    }
   ],
   "source": [
    "#now we need to remove the null values \n",
    "df1.head()"
   ]
  },
  {
   "cell_type": "code",
   "execution_count": 45,
   "id": "6896f170",
   "metadata": {
    "execution": {
     "iopub.execute_input": "2022-01-10T04:29:33.914301Z",
     "iopub.status.busy": "2022-01-10T04:29:33.913169Z",
     "iopub.status.idle": "2022-01-10T04:29:33.921087Z",
     "shell.execute_reply": "2022-01-10T04:29:33.921601Z",
     "shell.execute_reply.started": "2022-01-10T04:17:17.237661Z"
    },
    "papermill": {
     "duration": 0.137646,
     "end_time": "2022-01-10T04:29:33.921787",
     "exception": false,
     "start_time": "2022-01-10T04:29:33.784141",
     "status": "completed"
    },
    "tags": []
   },
   "outputs": [
    {
     "data": {
      "text/plain": [
       "Sex_M                 0\n",
       "ChestPainType_ATA     0\n",
       "ChestPainType_NAP     0\n",
       "ChestPainType_TA      0\n",
       "RestingECG_Normal     0\n",
       "RestingECG_ST         0\n",
       "ExerciseAngina_Y      0\n",
       "ST_Slope_Flat         0\n",
       "ST_Slope_Up           0\n",
       "Age                  19\n",
       "RestingBP            19\n",
       "Cholesterol          19\n",
       "FastingBS            19\n",
       "MaxHR                19\n",
       "Oldpeak              19\n",
       "HeartDisease         19\n",
       "dtype: int64"
      ]
     },
     "execution_count": 45,
     "metadata": {},
     "output_type": "execute_result"
    }
   ],
   "source": [
    "df1.isna().sum()"
   ]
  },
  {
   "cell_type": "code",
   "execution_count": 46,
   "id": "856ca911",
   "metadata": {
    "execution": {
     "iopub.execute_input": "2022-01-10T04:29:34.173124Z",
     "iopub.status.busy": "2022-01-10T04:29:34.171981Z",
     "iopub.status.idle": "2022-01-10T04:29:34.180170Z",
     "shell.execute_reply": "2022-01-10T04:29:34.180757Z",
     "shell.execute_reply.started": "2022-01-10T04:17:17.248866Z"
    },
    "papermill": {
     "duration": 0.136412,
     "end_time": "2022-01-10T04:29:34.180936",
     "exception": false,
     "start_time": "2022-01-10T04:29:34.044524",
     "status": "completed"
    },
    "tags": []
   },
   "outputs": [],
   "source": [
    "df1=df1.dropna()"
   ]
  },
  {
   "cell_type": "code",
   "execution_count": 47,
   "id": "26bb118c",
   "metadata": {
    "execution": {
     "iopub.execute_input": "2022-01-10T04:29:34.435028Z",
     "iopub.status.busy": "2022-01-10T04:29:34.434336Z",
     "iopub.status.idle": "2022-01-10T04:29:34.437396Z",
     "shell.execute_reply": "2022-01-10T04:29:34.437901Z",
     "shell.execute_reply.started": "2022-01-10T04:17:17.259154Z"
    },
    "papermill": {
     "duration": 0.13334,
     "end_time": "2022-01-10T04:29:34.438076",
     "exception": false,
     "start_time": "2022-01-10T04:29:34.304736",
     "status": "completed"
    },
    "tags": []
   },
   "outputs": [
    {
     "data": {
      "text/plain": [
       "(899, 16)"
      ]
     },
     "execution_count": 47,
     "metadata": {},
     "output_type": "execute_result"
    }
   ],
   "source": [
    "df1.shape"
   ]
  },
  {
   "cell_type": "markdown",
   "id": "b09d14a8",
   "metadata": {
    "execution": {
     "iopub.execute_input": "2022-01-10T04:29:34.696362Z",
     "iopub.status.busy": "2022-01-10T04:29:34.695271Z",
     "iopub.status.idle": "2022-01-10T04:29:34.698822Z",
     "shell.execute_reply": "2022-01-10T04:29:34.699376Z",
     "shell.execute_reply.started": "2022-01-10T04:17:17.270102Z"
    },
    "papermill": {
     "duration": 0.132994,
     "end_time": "2022-01-10T04:29:34.699584",
     "exception": false,
     "start_time": "2022-01-10T04:29:34.566590",
     "status": "completed"
    },
    "tags": []
   },
   "source": [
    "scaling down features"
   ]
  },
  {
   "cell_type": "code",
   "execution_count": 49,
   "id": "840db886",
   "metadata": {
    "execution": {
     "iopub.execute_input": "2022-01-10T04:29:34.965921Z",
     "iopub.status.busy": "2022-01-10T04:29:34.960372Z",
     "iopub.status.idle": "2022-01-10T04:29:34.973828Z",
     "shell.execute_reply": "2022-01-10T04:29:34.972949Z",
     "shell.execute_reply.started": "2022-01-10T04:17:17.282235Z"
    },
    "papermill": {
     "duration": 0.142444,
     "end_time": "2022-01-10T04:29:34.974014",
     "exception": false,
     "start_time": "2022-01-10T04:29:34.831570",
     "status": "completed"
    },
    "tags": []
   },
   "outputs": [],
   "source": [
    "#dividing of independent and dependent variables \n",
    "x=StandardScaler().fit_transform(df1.drop(\"HeartDisease\",axis=1))\n",
    "y=df1[\"HeartDisease\"]"
   ]
  },
  {
   "cell_type": "code",
   "execution_count": 50,
   "id": "95b4449f",
   "metadata": {
    "execution": {
     "iopub.execute_input": "2022-01-10T04:29:35.248891Z",
     "iopub.status.busy": "2022-01-10T04:29:35.247825Z",
     "iopub.status.idle": "2022-01-10T04:29:35.251938Z",
     "shell.execute_reply": "2022-01-10T04:29:35.251257Z",
     "shell.execute_reply.started": "2022-01-10T04:17:17.299578Z"
    },
    "papermill": {
     "duration": 0.145222,
     "end_time": "2022-01-10T04:29:35.252101",
     "exception": false,
     "start_time": "2022-01-10T04:29:35.106879",
     "status": "completed"
    },
    "tags": []
   },
   "outputs": [],
   "source": [
    "d=pd.DataFrame(x)"
   ]
  },
  {
   "cell_type": "code",
   "execution_count": 51,
   "id": "a5e6d3ec",
   "metadata": {
    "execution": {
     "iopub.execute_input": "2022-01-10T04:29:35.524127Z",
     "iopub.status.busy": "2022-01-10T04:29:35.523325Z",
     "iopub.status.idle": "2022-01-10T04:29:35.541594Z",
     "shell.execute_reply": "2022-01-10T04:29:35.542257Z",
     "shell.execute_reply.started": "2022-01-10T04:17:17.306122Z"
    },
    "papermill": {
     "duration": 0.153387,
     "end_time": "2022-01-10T04:29:35.542442",
     "exception": false,
     "start_time": "2022-01-10T04:29:35.389055",
     "status": "completed"
    },
    "tags": []
   },
   "outputs": [
    {
     "data": {
      "text/html": [
       "<div>\n",
       "<style scoped>\n",
       "    .dataframe tbody tr th:only-of-type {\n",
       "        vertical-align: middle;\n",
       "    }\n",
       "\n",
       "    .dataframe tbody tr th {\n",
       "        vertical-align: top;\n",
       "    }\n",
       "\n",
       "    .dataframe thead th {\n",
       "        text-align: right;\n",
       "    }\n",
       "</style>\n",
       "<table border=\"1\" class=\"dataframe\">\n",
       "  <thead>\n",
       "    <tr style=\"text-align: right;\">\n",
       "      <th></th>\n",
       "      <th>0</th>\n",
       "      <th>1</th>\n",
       "      <th>2</th>\n",
       "      <th>3</th>\n",
       "      <th>4</th>\n",
       "      <th>5</th>\n",
       "      <th>6</th>\n",
       "      <th>7</th>\n",
       "      <th>8</th>\n",
       "      <th>9</th>\n",
       "      <th>10</th>\n",
       "      <th>11</th>\n",
       "      <th>12</th>\n",
       "      <th>13</th>\n",
       "      <th>14</th>\n",
       "    </tr>\n",
       "  </thead>\n",
       "  <tbody>\n",
       "    <tr>\n",
       "      <th>0</th>\n",
       "      <td>0.515943</td>\n",
       "      <td>2.063325</td>\n",
       "      <td>-0.534905</td>\n",
       "      <td>-0.22955</td>\n",
       "      <td>0.809702</td>\n",
       "      <td>-0.489898</td>\n",
       "      <td>-0.822945</td>\n",
       "      <td>-0.998888</td>\n",
       "      <td>1.134695</td>\n",
       "      <td>-1.428154</td>\n",
       "      <td>0.465900</td>\n",
       "      <td>0.849636</td>\n",
       "      <td>-0.550362</td>\n",
       "      <td>1.384320</td>\n",
       "      <td>-0.855469</td>\n",
       "    </tr>\n",
       "    <tr>\n",
       "      <th>1</th>\n",
       "      <td>-1.938199</td>\n",
       "      <td>-0.484655</td>\n",
       "      <td>1.869492</td>\n",
       "      <td>-0.22955</td>\n",
       "      <td>0.809702</td>\n",
       "      <td>-0.489898</td>\n",
       "      <td>-0.822945</td>\n",
       "      <td>1.001113</td>\n",
       "      <td>-0.881294</td>\n",
       "      <td>-0.475855</td>\n",
       "      <td>1.634714</td>\n",
       "      <td>-0.168122</td>\n",
       "      <td>-0.550362</td>\n",
       "      <td>0.752973</td>\n",
       "      <td>0.137516</td>\n",
       "    </tr>\n",
       "    <tr>\n",
       "      <th>2</th>\n",
       "      <td>0.515943</td>\n",
       "      <td>2.063325</td>\n",
       "      <td>-0.534905</td>\n",
       "      <td>-0.22955</td>\n",
       "      <td>-1.235023</td>\n",
       "      <td>2.041241</td>\n",
       "      <td>-0.822945</td>\n",
       "      <td>-0.998888</td>\n",
       "      <td>1.134695</td>\n",
       "      <td>-1.745588</td>\n",
       "      <td>-0.118507</td>\n",
       "      <td>0.793612</td>\n",
       "      <td>-0.550362</td>\n",
       "      <td>-1.535661</td>\n",
       "      <td>-0.855469</td>\n",
       "    </tr>\n",
       "    <tr>\n",
       "      <th>3</th>\n",
       "      <td>-1.938199</td>\n",
       "      <td>-0.484655</td>\n",
       "      <td>-0.534905</td>\n",
       "      <td>-0.22955</td>\n",
       "      <td>0.809702</td>\n",
       "      <td>-0.489898</td>\n",
       "      <td>1.215148</td>\n",
       "      <td>1.001113</td>\n",
       "      <td>-0.881294</td>\n",
       "      <td>-0.581666</td>\n",
       "      <td>0.349019</td>\n",
       "      <td>0.149344</td>\n",
       "      <td>-0.550362</td>\n",
       "      <td>-1.141069</td>\n",
       "      <td>0.634008</td>\n",
       "    </tr>\n",
       "    <tr>\n",
       "      <th>4</th>\n",
       "      <td>0.515943</td>\n",
       "      <td>-0.484655</td>\n",
       "      <td>1.869492</td>\n",
       "      <td>-0.22955</td>\n",
       "      <td>0.809702</td>\n",
       "      <td>-0.489898</td>\n",
       "      <td>-0.822945</td>\n",
       "      <td>-0.998888</td>\n",
       "      <td>1.134695</td>\n",
       "      <td>0.053200</td>\n",
       "      <td>1.050307</td>\n",
       "      <td>-0.028064</td>\n",
       "      <td>-0.550362</td>\n",
       "      <td>-0.588640</td>\n",
       "      <td>-0.855469</td>\n",
       "    </tr>\n",
       "  </tbody>\n",
       "</table>\n",
       "</div>"
      ],
      "text/plain": [
       "         0         1         2        3         4         5         6   \\\n",
       "0  0.515943  2.063325 -0.534905 -0.22955  0.809702 -0.489898 -0.822945   \n",
       "1 -1.938199 -0.484655  1.869492 -0.22955  0.809702 -0.489898 -0.822945   \n",
       "2  0.515943  2.063325 -0.534905 -0.22955 -1.235023  2.041241 -0.822945   \n",
       "3 -1.938199 -0.484655 -0.534905 -0.22955  0.809702 -0.489898  1.215148   \n",
       "4  0.515943 -0.484655  1.869492 -0.22955  0.809702 -0.489898 -0.822945   \n",
       "\n",
       "         7         8         9         10        11        12        13  \\\n",
       "0 -0.998888  1.134695 -1.428154  0.465900  0.849636 -0.550362  1.384320   \n",
       "1  1.001113 -0.881294 -0.475855  1.634714 -0.168122 -0.550362  0.752973   \n",
       "2 -0.998888  1.134695 -1.745588 -0.118507  0.793612 -0.550362 -1.535661   \n",
       "3  1.001113 -0.881294 -0.581666  0.349019  0.149344 -0.550362 -1.141069   \n",
       "4 -0.998888  1.134695  0.053200  1.050307 -0.028064 -0.550362 -0.588640   \n",
       "\n",
       "         14  \n",
       "0 -0.855469  \n",
       "1  0.137516  \n",
       "2 -0.855469  \n",
       "3  0.634008  \n",
       "4 -0.855469  "
      ]
     },
     "execution_count": 51,
     "metadata": {},
     "output_type": "execute_result"
    }
   ],
   "source": [
    "#these are scale down features\n",
    "d.head()"
   ]
  },
  {
   "cell_type": "markdown",
   "id": "1d52690c",
   "metadata": {
    "execution": {
     "iopub.execute_input": "2022-01-10T04:29:35.793051Z",
     "iopub.status.busy": "2022-01-10T04:29:35.792285Z",
     "iopub.status.idle": "2022-01-10T04:29:35.794443Z",
     "shell.execute_reply": "2022-01-10T04:29:35.794944Z",
     "shell.execute_reply.started": "2022-01-10T04:17:17.330811Z"
    },
    "papermill": {
     "duration": 0.130967,
     "end_time": "2022-01-10T04:29:35.795120",
     "exception": false,
     "start_time": "2022-01-10T04:29:35.664153",
     "status": "completed"
    },
    "tags": []
   },
   "source": [
    "# modelling"
   ]
  },
  {
   "cell_type": "code",
   "execution_count": 79,
   "id": "1435c1e3",
   "metadata": {
    "execution": {
     "iopub.execute_input": "2022-01-10T04:29:36.053221Z",
     "iopub.status.busy": "2022-01-10T04:29:36.052037Z",
     "iopub.status.idle": "2022-01-10T04:29:36.054175Z",
     "shell.execute_reply": "2022-01-10T04:29:36.054701Z",
     "shell.execute_reply.started": "2022-01-10T04:17:17.335326Z"
    },
    "papermill": {
     "duration": 0.133487,
     "end_time": "2022-01-10T04:29:36.054879",
     "exception": false,
     "start_time": "2022-01-10T04:29:35.921392",
     "status": "completed"
    },
    "tags": []
   },
   "outputs": [],
   "source": [
    "#now its time for spliting of data \n",
    "x_train,x_test,y_train,y_test=train_test_split(x,y,test_size=0.3,random_state=1)"
   ]
  },
  {
   "cell_type": "code",
   "execution_count": 80,
   "id": "9844eb3e",
   "metadata": {
    "execution": {
     "iopub.execute_input": "2022-01-10T04:29:36.313853Z",
     "iopub.status.busy": "2022-01-10T04:29:36.312945Z",
     "iopub.status.idle": "2022-01-10T04:29:36.316569Z",
     "shell.execute_reply": "2022-01-10T04:29:36.317030Z",
     "shell.execute_reply.started": "2022-01-10T04:17:17.348834Z"
    },
    "papermill": {
     "duration": 0.131548,
     "end_time": "2022-01-10T04:29:36.317235",
     "exception": false,
     "start_time": "2022-01-10T04:29:36.185687",
     "status": "completed"
    },
    "tags": []
   },
   "outputs": [
    {
     "data": {
      "text/plain": [
       "((629, 15), (629,), (270, 15), (270,))"
      ]
     },
     "execution_count": 80,
     "metadata": {},
     "output_type": "execute_result"
    }
   ],
   "source": [
    "#now viewing the shapes of trainning and testing data \n",
    "x_train.shape,y_train.shape,x_test.shape,y_test.shape"
   ]
  },
  {
   "cell_type": "markdown",
   "id": "0ff2bfbd",
   "metadata": {
    "execution": {
     "iopub.execute_input": "2022-01-10T04:29:36.577679Z",
     "iopub.status.busy": "2022-01-10T04:29:36.576789Z",
     "iopub.status.idle": "2022-01-10T04:29:36.578412Z",
     "shell.execute_reply": "2022-01-10T04:29:36.579001Z",
     "shell.execute_reply.started": "2022-01-10T04:17:17.359937Z"
    },
    "papermill": {
     "duration": 0.130509,
     "end_time": "2022-01-10T04:29:36.579204",
     "exception": false,
     "start_time": "2022-01-10T04:29:36.448695",
     "status": "completed"
    },
    "tags": []
   },
   "source": [
    "there are 629 values for training and 270 values for testing "
   ]
  },
  {
   "cell_type": "code",
   "execution_count": 56,
   "id": "90c83fb3",
   "metadata": {
    "execution": {
     "iopub.execute_input": "2022-01-10T04:29:36.833688Z",
     "iopub.status.busy": "2022-01-10T04:29:36.832968Z",
     "iopub.status.idle": "2022-01-10T04:29:36.836227Z",
     "shell.execute_reply": "2022-01-10T04:29:36.836867Z",
     "shell.execute_reply.started": "2022-01-10T04:17:17.368374Z"
    },
    "papermill": {
     "duration": 0.135512,
     "end_time": "2022-01-10T04:29:36.837053",
     "exception": false,
     "start_time": "2022-01-10T04:29:36.701541",
     "status": "completed"
    },
    "tags": []
   },
   "outputs": [],
   "source": [
    "model=dtc()"
   ]
  },
  {
   "cell_type": "code",
   "execution_count": 57,
   "id": "45b17899",
   "metadata": {
    "execution": {
     "iopub.execute_input": "2022-01-10T04:29:37.094500Z",
     "iopub.status.busy": "2022-01-10T04:29:37.093760Z",
     "iopub.status.idle": "2022-01-10T04:29:37.103711Z",
     "shell.execute_reply": "2022-01-10T04:29:37.104276Z",
     "shell.execute_reply.started": "2022-01-10T04:17:17.378728Z"
    },
    "papermill": {
     "duration": 0.140535,
     "end_time": "2022-01-10T04:29:37.104541",
     "exception": false,
     "start_time": "2022-01-10T04:29:36.964006",
     "status": "completed"
    },
    "tags": []
   },
   "outputs": [
    {
     "data": {
      "text/plain": [
       "DecisionTreeClassifier()"
      ]
     },
     "execution_count": 57,
     "metadata": {},
     "output_type": "execute_result"
    }
   ],
   "source": [
    "#fitting the model\n",
    "model.fit(x_train,y_train)"
   ]
  },
  {
   "cell_type": "code",
   "execution_count": 58,
   "id": "d05e73a3",
   "metadata": {
    "execution": {
     "iopub.execute_input": "2022-01-10T04:29:37.365798Z",
     "iopub.status.busy": "2022-01-10T04:29:37.365007Z",
     "iopub.status.idle": "2022-01-10T04:29:37.368701Z",
     "shell.execute_reply": "2022-01-10T04:29:37.368033Z",
     "shell.execute_reply.started": "2022-01-10T04:17:17.398095Z"
    },
    "papermill": {
     "duration": 0.135233,
     "end_time": "2022-01-10T04:29:37.368842",
     "exception": false,
     "start_time": "2022-01-10T04:29:37.233609",
     "status": "completed"
    },
    "tags": []
   },
   "outputs": [],
   "source": [
    "pre=model.predict(x_test)"
   ]
  },
  {
   "cell_type": "code",
   "execution_count": 59,
   "id": "014b07b4",
   "metadata": {
    "execution": {
     "iopub.execute_input": "2022-01-10T04:29:37.624436Z",
     "iopub.status.busy": "2022-01-10T04:29:37.623450Z",
     "iopub.status.idle": "2022-01-10T04:29:37.628967Z",
     "shell.execute_reply": "2022-01-10T04:29:37.628265Z",
     "shell.execute_reply.started": "2022-01-10T04:17:17.40396Z"
    },
    "papermill": {
     "duration": 0.135261,
     "end_time": "2022-01-10T04:29:37.629119",
     "exception": false,
     "start_time": "2022-01-10T04:29:37.493858",
     "status": "completed"
    },
    "tags": []
   },
   "outputs": [
    {
     "data": {
      "text/plain": [
       "array([1., 0., 0., 1., 1., 0., 1., 0., 1., 0., 1., 1., 1., 0., 1., 1., 0.,\n",
       "       0., 0., 1., 0., 1., 1., 1., 1., 0., 1., 1., 0., 0., 1., 0., 0., 0.,\n",
       "       1., 0., 0., 1., 0., 1., 1., 0., 0., 0., 1., 0., 0., 0., 1., 0., 0.,\n",
       "       1., 1., 1., 1., 1., 1., 0., 0., 0., 1., 0., 0., 1., 1., 1., 1., 0.,\n",
       "       0., 1., 0., 1., 1., 1., 1., 1., 1., 0., 1., 0., 1., 1., 0., 1., 1.,\n",
       "       1., 1., 0., 0., 1., 0., 1., 1., 1., 0., 0., 1., 1., 0., 1., 0., 1.,\n",
       "       1., 0., 1., 1., 1., 1., 1., 0., 0., 0., 1., 0., 1., 0., 0., 0., 0.,\n",
       "       1., 1., 1., 0., 0., 1., 1., 0., 0., 1., 0., 1., 1., 0., 0., 0., 1.,\n",
       "       1., 1., 0., 0., 0., 1., 1., 0., 0., 1., 1., 0., 1., 0., 0., 1., 0.,\n",
       "       1., 1., 0., 0., 1., 0., 0., 1., 0., 0., 0., 0., 1., 0., 0., 0., 1.,\n",
       "       1., 0., 1., 0., 1., 0., 0., 1., 0., 1., 1., 0., 1., 1., 1., 1., 0.,\n",
       "       0., 1., 1., 1., 0., 1., 0., 0., 0., 1., 1., 0., 0., 1., 1., 0., 0.,\n",
       "       0., 0., 0., 1., 0., 1., 0., 1., 1., 0., 1., 1., 0., 0., 1., 0., 0.,\n",
       "       0., 1., 1., 0., 0., 1., 1., 0., 1., 1., 1., 0., 0., 0., 1., 1., 0.,\n",
       "       1., 0., 1., 1., 1., 1., 0., 1., 1., 1., 1., 0., 0., 0., 1., 1., 0.,\n",
       "       0., 0., 1., 1., 0., 0., 1., 0., 1., 1., 1., 0., 1., 1., 1.])"
      ]
     },
     "execution_count": 59,
     "metadata": {},
     "output_type": "execute_result"
    }
   ],
   "source": [
    "pre"
   ]
  },
  {
   "cell_type": "code",
   "execution_count": 60,
   "id": "f79b02fc",
   "metadata": {
    "execution": {
     "iopub.execute_input": "2022-01-10T04:29:37.887348Z",
     "iopub.status.busy": "2022-01-10T04:29:37.886567Z",
     "iopub.status.idle": "2022-01-10T04:29:37.893395Z",
     "shell.execute_reply": "2022-01-10T04:29:37.894046Z",
     "shell.execute_reply.started": "2022-01-10T04:17:17.420164Z"
    },
    "papermill": {
     "duration": 0.136316,
     "end_time": "2022-01-10T04:29:37.894277",
     "exception": false,
     "start_time": "2022-01-10T04:29:37.757961",
     "status": "completed"
    },
    "tags": []
   },
   "outputs": [
    {
     "data": {
      "text/plain": [
       "0.762962962962963"
      ]
     },
     "execution_count": 60,
     "metadata": {},
     "output_type": "execute_result"
    }
   ],
   "source": [
    "accuracy_score(pre,y_test)"
   ]
  },
  {
   "cell_type": "code",
   "execution_count": 63,
   "id": "da00f387",
   "metadata": {
    "execution": {
     "iopub.execute_input": "2022-01-10T04:29:38.148989Z",
     "iopub.status.busy": "2022-01-10T04:29:38.148279Z",
     "iopub.status.idle": "2022-01-10T04:29:38.430178Z",
     "shell.execute_reply": "2022-01-10T04:29:38.429645Z",
     "shell.execute_reply.started": "2022-01-10T04:17:17.432817Z"
    },
    "papermill": {
     "duration": 0.409377,
     "end_time": "2022-01-10T04:29:38.430348",
     "exception": false,
     "start_time": "2022-01-10T04:29:38.020971",
     "status": "completed"
    },
    "tags": []
   },
   "outputs": [
    {
     "data": {
      "text/plain": [
       "<AxesSubplot:>"
      ]
     },
     "execution_count": 63,
     "metadata": {},
     "output_type": "execute_result"
    },
    {
     "data": {
      "image/png": "[encoded data removed]",
      "text/plain": [
       "<Figure size 432x288 with 2 Axes>"
      ]
     },
     "metadata": {
      "needs_background": "light"
     },
     "output_type": "display_data"
    }
   ],
   "source": [
    "sns.heatmap(cm(pre,y_test),annot=True)"
   ]
  },
  {
   "cell_type": "code",
   "execution_count": 64,
   "id": "b7bd0327",
   "metadata": {
    "execution": {
     "iopub.execute_input": "2022-01-10T04:29:38.685405Z",
     "iopub.status.busy": "2022-01-10T04:29:38.684413Z",
     "iopub.status.idle": "2022-01-10T04:29:38.695356Z",
     "shell.execute_reply": "2022-01-10T04:29:38.695897Z",
     "shell.execute_reply.started": "2022-01-10T04:17:17.694001Z"
    },
    "papermill": {
     "duration": 0.138602,
     "end_time": "2022-01-10T04:29:38.696076",
     "exception": false,
     "start_time": "2022-01-10T04:29:38.557474",
     "status": "completed"
    },
    "tags": []
   },
   "outputs": [
    {
     "name": "stdout",
     "output_type": "stream",
     "text": [
      "              precision    recall  f1-score   support\n",
      "\n",
      "         0.0       0.77      0.72      0.74       128\n",
      "         1.0       0.76      0.80      0.78       142\n",
      "\n",
      "    accuracy                           0.76       270\n",
      "   macro avg       0.76      0.76      0.76       270\n",
      "weighted avg       0.76      0.76      0.76       270\n",
      "\n"
     ]
    }
   ],
   "source": [
    "print(cr(pre,y_test))"
   ]
  },
  {
   "cell_type": "markdown",
   "id": "042ba56a",
   "metadata": {
    "execution": {
     "iopub.execute_input": "2022-01-10T04:29:38.954415Z",
     "iopub.status.busy": "2022-01-10T04:29:38.953369Z",
     "iopub.status.idle": "2022-01-10T04:29:38.957094Z",
     "shell.execute_reply": "2022-01-10T04:29:38.957691Z",
     "shell.execute_reply.started": "2022-01-10T04:17:17.709207Z"
    },
    "papermill": {
     "duration": 0.131841,
     "end_time": "2022-01-10T04:29:38.957870",
     "exception": false,
     "start_time": "2022-01-10T04:29:38.826029",
     "status": "completed"
    },
    "tags": []
   },
   "source": [
    "accuracy of our model is 77 percent "
   ]
  },
  {
   "cell_type": "code",
   "execution_count": 65,
   "id": "87d987ca",
   "metadata": {
    "execution": {
     "iopub.execute_input": "2022-01-10T04:29:39.217460Z",
     "iopub.status.busy": "2022-01-10T04:29:39.216674Z",
     "iopub.status.idle": "2022-01-10T04:29:39.218749Z",
     "shell.execute_reply": "2022-01-10T04:29:39.218220Z",
     "shell.execute_reply.started": "2022-01-10T04:17:17.716587Z"
    },
    "papermill": {
     "duration": 0.133206,
     "end_time": "2022-01-10T04:29:39.218890",
     "exception": false,
     "start_time": "2022-01-10T04:29:39.085684",
     "status": "completed"
    },
    "tags": []
   },
   "outputs": [],
   "source": [
    "#now Random ForestClassifier \n",
    "from sklearn.ensemble import RandomForestClassifier\n",
    "m = RandomForestClassifier(max_depth=4, random_state=0)"
   ]
  },
  {
   "cell_type": "code",
   "execution_count": 66,
   "id": "998318f6",
   "metadata": {
    "execution": {
     "iopub.execute_input": "2022-01-10T04:29:39.482099Z",
     "iopub.status.busy": "2022-01-10T04:29:39.480237Z",
     "iopub.status.idle": "2022-01-10T04:29:39.503765Z",
     "shell.execute_reply": "2022-01-10T04:29:39.504561Z",
     "shell.execute_reply.started": "2022-01-10T04:17:17.726932Z"
    },
    "papermill": {
     "duration": 0.159634,
     "end_time": "2022-01-10T04:29:39.504757",
     "exception": false,
     "start_time": "2022-01-10T04:29:39.345123",
     "status": "completed"
    },
    "tags": []
   },
   "outputs": [
    {
     "data": {
      "text/plain": [
       "RandomForestClassifier(max_depth=4, random_state=0)"
      ]
     },
     "execution_count": 66,
     "metadata": {},
     "output_type": "execute_result"
    }
   ],
   "source": [
    "m.fit(x_train,y_train)"
   ]
  },
  {
   "cell_type": "code",
   "execution_count": 67,
   "id": "d44bcadd",
   "metadata": {
    "execution": {
     "iopub.execute_input": "2022-01-10T04:29:39.818145Z",
     "iopub.status.busy": "2022-01-10T04:29:39.817348Z",
     "iopub.status.idle": "2022-01-10T04:29:39.820366Z",
     "shell.execute_reply": "2022-01-10T04:29:39.819681Z",
     "shell.execute_reply.started": "2022-01-10T04:17:17.755227Z"
    },
    "papermill": {
     "duration": 0.135965,
     "end_time": "2022-01-10T04:29:39.820513",
     "exception": false,
     "start_time": "2022-01-10T04:29:39.684548",
     "status": "completed"
    },
    "tags": []
   },
   "outputs": [],
   "source": [
    "predict=m.predict(x_test)"
   ]
  },
  {
   "cell_type": "code",
   "execution_count": 68,
   "id": "17f177c4",
   "metadata": {
    "execution": {
     "iopub.execute_input": "2022-01-10T04:29:40.071417Z",
     "iopub.status.busy": "2022-01-10T04:29:40.070766Z",
     "iopub.status.idle": "2022-01-10T04:29:40.076143Z",
     "shell.execute_reply": "2022-01-10T04:29:40.076669Z",
     "shell.execute_reply.started": "2022-01-10T04:17:17.765261Z"
    },
    "papermill": {
     "duration": 0.131922,
     "end_time": "2022-01-10T04:29:40.076840",
     "exception": false,
     "start_time": "2022-01-10T04:29:39.944918",
     "status": "completed"
    },
    "tags": []
   },
   "outputs": [
    {
     "data": {
      "text/plain": [
       "0.8851851851851852"
      ]
     },
     "execution_count": 68,
     "metadata": {},
     "output_type": "execute_result"
    }
   ],
   "source": [
    "accuracy_score(predict,y_test)"
   ]
  },
  {
   "cell_type": "code",
   "execution_count": 69,
   "id": "46a4e05e",
   "metadata": {
    "execution": {
     "iopub.execute_input": "2022-01-10T04:29:40.327845Z",
     "iopub.status.busy": "2022-01-10T04:29:40.325734Z",
     "iopub.status.idle": "2022-01-10T04:29:40.713648Z",
     "shell.execute_reply": "2022-01-10T04:29:40.714247Z",
     "shell.execute_reply.started": "2022-01-10T04:17:17.782541Z"
    },
    "papermill": {
     "duration": 0.515395,
     "end_time": "2022-01-10T04:29:40.714424",
     "exception": false,
     "start_time": "2022-01-10T04:29:40.199029",
     "status": "completed"
    },
    "tags": []
   },
   "outputs": [
    {
     "data": {
      "text/plain": [
       "<AxesSubplot:>"
      ]
     },
     "execution_count": 69,
     "metadata": {},
     "output_type": "execute_result"
    },
    {
     "data": {
      "image/png": "[encoded data removed]",
      "text/plain": [
       "<Figure size 432x288 with 2 Axes>"
      ]
     },
     "metadata": {
      "needs_background": "light"
     },
     "output_type": "display_data"
    }
   ],
   "source": [
    "sns.heatmap(cm(predict,y_test),annot=True)"
   ]
  },
  {
   "cell_type": "code",
   "execution_count": 70,
   "id": "2647a6cc",
   "metadata": {
    "execution": {
     "iopub.execute_input": "2022-01-10T04:29:40.974495Z",
     "iopub.status.busy": "2022-01-10T04:29:40.973776Z",
     "iopub.status.idle": "2022-01-10T04:29:40.985029Z",
     "shell.execute_reply": "2022-01-10T04:29:40.985592Z",
     "shell.execute_reply.started": "2022-01-10T04:17:18.227004Z"
    },
    "papermill": {
     "duration": 0.141938,
     "end_time": "2022-01-10T04:29:40.985782",
     "exception": false,
     "start_time": "2022-01-10T04:29:40.843844",
     "status": "completed"
    },
    "tags": []
   },
   "outputs": [
    {
     "name": "stdout",
     "output_type": "stream",
     "text": [
      "              precision    recall  f1-score   support\n",
      "\n",
      "         0.0       0.82      0.92      0.86       107\n",
      "         1.0       0.94      0.87      0.90       163\n",
      "\n",
      "    accuracy                           0.89       270\n",
      "   macro avg       0.88      0.89      0.88       270\n",
      "weighted avg       0.89      0.89      0.89       270\n",
      "\n"
     ]
    }
   ],
   "source": [
    "print(cr(predict,y_test))"
   ]
  },
  {
   "cell_type": "code",
   "execution_count": 84,
   "id": "8391020c",
   "metadata": {
    "execution": {
     "iopub.execute_input": "2022-01-10T04:29:41.243506Z",
     "iopub.status.busy": "2022-01-10T04:29:41.242780Z",
     "iopub.status.idle": "2022-01-10T04:29:41.247076Z",
     "shell.execute_reply": "2022-01-10T04:29:41.247669Z",
     "shell.execute_reply.started": "2022-01-10T04:17:18.240233Z"
    },
    "papermill": {
     "duration": 0.135124,
     "end_time": "2022-01-10T04:29:41.247861",
     "exception": false,
     "start_time": "2022-01-10T04:29:41.112737",
     "status": "completed"
    },
    "tags": []
   },
   "outputs": [],
   "source": [
    "bayes=bs()\n"
   ]
  },
  {
   "cell_type": "code",
   "execution_count": 85,
   "id": "cd9b6399",
   "metadata": {
    "execution": {
     "iopub.execute_input": "2022-01-10T04:29:41.505673Z",
     "iopub.status.busy": "2022-01-10T04:29:41.502842Z",
     "iopub.status.idle": "2022-01-10T04:29:41.513970Z",
     "shell.execute_reply": "2022-01-10T04:29:41.512971Z",
     "shell.execute_reply.started": "2022-01-10T04:17:18.247266Z"
    },
    "papermill": {
     "duration": 0.138787,
     "end_time": "2022-01-10T04:29:41.514153",
     "exception": false,
     "start_time": "2022-01-10T04:29:41.375366",
     "status": "completed"
    },
    "tags": []
   },
   "outputs": [
    {
     "data": {
      "text/plain": [
       "GaussianNB()"
      ]
     },
     "execution_count": 85,
     "metadata": {},
     "output_type": "execute_result"
    }
   ],
   "source": [
    "bayes.fit(x_train,y_train)\n"
   ]
  },
  {
   "cell_type": "code",
   "execution_count": 86,
   "id": "f237f273",
   "metadata": {
    "execution": {
     "iopub.execute_input": "2022-01-10T04:29:41.775106Z",
     "iopub.status.busy": "2022-01-10T04:29:41.774426Z",
     "iopub.status.idle": "2022-01-10T04:29:41.777244Z",
     "shell.execute_reply": "2022-01-10T04:29:41.777768Z",
     "shell.execute_reply.started": "2022-01-10T04:17:18.264696Z"
    },
    "papermill": {
     "duration": 0.138008,
     "end_time": "2022-01-10T04:29:41.777946",
     "exception": false,
     "start_time": "2022-01-10T04:29:41.639938",
     "status": "completed"
    },
    "tags": []
   },
   "outputs": [],
   "source": [
    "p=bayes.predict(x_test)"
   ]
  },
  {
   "cell_type": "code",
   "execution_count": 87,
   "id": "388b76d5",
   "metadata": {
    "execution": {
     "iopub.execute_input": "2022-01-10T04:29:42.037857Z",
     "iopub.status.busy": "2022-01-10T04:29:42.037169Z",
     "iopub.status.idle": "2022-01-10T04:29:42.045303Z",
     "shell.execute_reply": "2022-01-10T04:29:42.045831Z",
     "shell.execute_reply.started": "2022-01-10T04:17:18.270512Z"
    },
    "papermill": {
     "duration": 0.14018,
     "end_time": "2022-01-10T04:29:42.046014",
     "exception": false,
     "start_time": "2022-01-10T04:29:41.905834",
     "status": "completed"
    },
    "tags": []
   },
   "outputs": [
    {
     "data": {
      "text/plain": [
       "array([1., 0., 0., 0., 1., 0., 1., 1., 1., 0., 0., 0., 0., 1., 1., 1., 0.,\n",
       "       0., 1., 0., 0., 1., 0., 1., 1., 1., 1., 1., 0., 0., 1., 0., 0., 0.,\n",
       "       1., 0., 0., 0., 0., 1., 1., 0., 0., 0., 1., 1., 0., 0., 1., 0., 0.,\n",
       "       0., 1., 1., 1., 1., 1., 0., 1., 1., 1., 1., 1., 1., 1., 1., 0., 1.,\n",
       "       0., 1., 0., 1., 1., 1., 1., 1., 1., 0., 1., 0., 0., 0., 0., 1., 0.,\n",
       "       1., 1., 1., 0., 1., 0., 1., 0., 1., 1., 0., 1., 1., 1., 1., 1., 1.,\n",
       "       1., 0., 1., 1., 1., 0., 1., 0., 0., 0., 1., 0., 1., 0., 0., 0., 0.,\n",
       "       0., 1., 1., 0., 0., 1., 1., 0., 0., 1., 1., 1., 1., 1., 1., 0., 1.,\n",
       "       1., 1., 0., 0., 0., 1., 1., 1., 0., 1., 1., 0., 1., 1., 1., 1., 0.,\n",
       "       0., 0., 0., 1., 1., 0., 0., 0., 0., 1., 0., 1., 1., 0., 0., 0., 1.,\n",
       "       1., 0., 0., 0., 1., 1., 0., 1., 0., 1., 1., 0., 1., 0., 1., 1., 0.,\n",
       "       1., 1., 0., 0., 1., 0., 1., 0., 0., 1., 0., 0., 1., 1., 1., 0., 0.,\n",
       "       0., 0., 0., 1., 1., 1., 1., 1., 0., 0., 1., 1., 1., 0., 1., 0., 0.,\n",
       "       0., 1., 1., 0., 0., 1., 1., 0., 1., 1., 1., 1., 0., 0., 1., 1., 0.,\n",
       "       1., 0., 1., 0., 0., 0., 0., 1., 1., 1., 1., 0., 1., 0., 1., 1., 0.,\n",
       "       0., 0., 1., 0., 0., 0., 1., 0., 1., 1., 1., 0., 0., 1., 1.])"
      ]
     },
     "execution_count": 87,
     "metadata": {},
     "output_type": "execute_result"
    }
   ],
   "source": [
    "p"
   ]
  },
  {
   "cell_type": "code",
   "execution_count": 88,
   "id": "2966eb33",
   "metadata": {
    "execution": {
     "iopub.execute_input": "2022-01-10T04:29:42.305003Z",
     "iopub.status.busy": "2022-01-10T04:29:42.304379Z",
     "iopub.status.idle": "2022-01-10T04:29:42.310675Z",
     "shell.execute_reply": "2022-01-10T04:29:42.311228Z",
     "shell.execute_reply.started": "2022-01-10T04:17:18.285138Z"
    },
    "papermill": {
     "duration": 0.137544,
     "end_time": "2022-01-10T04:29:42.311422",
     "exception": false,
     "start_time": "2022-01-10T04:29:42.173878",
     "status": "completed"
    },
    "tags": []
   },
   "outputs": [
    {
     "data": {
      "text/plain": [
       "0.8629629629629629"
      ]
     },
     "execution_count": 88,
     "metadata": {},
     "output_type": "execute_result"
    }
   ],
   "source": [
    "accuracy_score(p,y_test)"
   ]
  },
  {
   "cell_type": "code",
   "execution_count": 89,
   "id": "b25ed609",
   "metadata": {
    "execution": {
     "iopub.execute_input": "2022-01-10T04:29:42.571499Z",
     "iopub.status.busy": "2022-01-10T04:29:42.570749Z",
     "iopub.status.idle": "2022-01-10T04:29:42.785249Z",
     "shell.execute_reply": "2022-01-10T04:29:42.784025Z",
     "shell.execute_reply.started": "2022-01-10T04:17:18.296844Z"
    },
    "papermill": {
     "duration": 0.346668,
     "end_time": "2022-01-10T04:29:42.785431",
     "exception": false,
     "start_time": "2022-01-10T04:29:42.438763",
     "status": "completed"
    },
    "tags": []
   },
   "outputs": [
    {
     "data": {
      "text/plain": [
       "<AxesSubplot:>"
      ]
     },
     "execution_count": 89,
     "metadata": {},
     "output_type": "execute_result"
    },
    {
     "data": {
      "image/png": "[encoded data removed]",
      "text/plain": [
       "<Figure size 432x288 with 2 Axes>"
      ]
     },
     "metadata": {
      "needs_background": "light"
     },
     "output_type": "display_data"
    }
   ],
   "source": [
    "sns.heatmap(cm(p,y_test),annot=True)"
   ]
  },
  {
   "cell_type": "code",
   "execution_count": 90,
   "id": "c21e6bf7",
   "metadata": {
    "execution": {
     "iopub.execute_input": "2022-01-10T04:29:43.050828Z",
     "iopub.status.busy": "2022-01-10T04:29:43.049625Z",
     "iopub.status.idle": "2022-01-10T04:29:43.059719Z",
     "shell.execute_reply": "2022-01-10T04:29:43.060289Z",
     "shell.execute_reply.started": "2022-01-10T04:17:18.533486Z"
    },
    "papermill": {
     "duration": 0.144574,
     "end_time": "2022-01-10T04:29:43.060488",
     "exception": false,
     "start_time": "2022-01-10T04:29:42.915914",
     "status": "completed"
    },
    "tags": []
   },
   "outputs": [
    {
     "name": "stdout",
     "output_type": "stream",
     "text": [
      "              precision    recall  f1-score   support\n",
      "\n",
      "         0.0       0.87      0.83      0.85       125\n",
      "         1.0       0.86      0.89      0.87       145\n",
      "\n",
      "    accuracy                           0.86       270\n",
      "   macro avg       0.86      0.86      0.86       270\n",
      "weighted avg       0.86      0.86      0.86       270\n",
      "\n"
     ]
    }
   ],
   "source": [
    "print(cr(p,y_test))"
   ]
  }
 ],
 "metadata": {
  "kernelspec": {
   "display_name": "Python 3 (ipykernel)",
   "language": "python",
   "name": "python3"
  },
  "language_info": {
   "codemirror_mode": {
    "name": "ipython",
    "version": 3
   },
   "file_extension": ".py",
   "mimetype": "text/x-python",
   "name": "python",
   "nbconvert_exporter": "python",
   "pygments_lexer": "ipython3",
   "version": "3.8.5"
  },
  "papermill": {
   "default_parameters": {},
   "duration": 54.634176,
   "end_time": "2022-01-10T04:29:46.647266",
   "environment_variables": {},
   "exception": null,
   "input_path": "__notebook__.ipynb",
   "output_path": "__notebook__.ipynb",
   "parameters": {},
   "start_time": "2022-01-10T04:28:52.013090",
   "version": "2.3.3"
  }
 },
 "nbformat": 4,
 "nbformat_minor": 5
}
